{
  "nbformat": 4,
  "nbformat_minor": 0,
  "metadata": {
    "colab": {
      "name": "Abrir_datos_en_colab (Ley de potencias).ipynb",
      "provenance": [],
      "collapsed_sections": [],
      "toc_visible": true,
      "include_colab_link": true
    },
    "kernelspec": {
      "name": "python3",
      "display_name": "Python 3"
    }
  },
  "cells": [
    {
      "cell_type": "markdown",
      "metadata": {
        "id": "view-in-github",
        "colab_type": "text"
      },
      "source": [
        "<a href=\"https://colab.research.google.com/github/tincho-mehaudy/DMCyT/blob/master/Abrir_datos_en_colab_(Ley_de_potencias).ipynb\" target=\"_parent\"><img src=\"https://colab.research.google.com/assets/colab-badge.svg\" alt=\"Open In Colab\"/></a>"
      ]
    },
    {
      "cell_type": "markdown",
      "metadata": {
        "id": "pgNiKZYmKIrz",
        "colab_type": "text"
      },
      "source": [
        "# Referencias:\n",
        "\n",
        "https://towardsdatascience.com/3-ways-to-load-csv-files-into-colab-7c14fcbdcb92\n",
        "\n",
        "https://colab.research.google.com/notebooks/io.ipynb#scrollTo=vz-jH8T_Uk2c"
      ]
    },
    {
      "cell_type": "code",
      "metadata": {
        "id": "ynWCKrFYi81s",
        "colab_type": "code",
        "colab": {}
      },
      "source": [
        "import pandas as pd\n",
        "import numpy as np\n",
        "import matplotlib.pyplot as plt"
      ],
      "execution_count": null,
      "outputs": []
    },
    {
      "cell_type": "markdown",
      "metadata": {
        "id": "JcKqiHVwVV3T",
        "colab_type": "text"
      },
      "source": [
        "# Cargar los datos desde la computadora"
      ]
    },
    {
      "cell_type": "code",
      "metadata": {
        "id": "fiGyLW_6KBxF",
        "colab_type": "code",
        "colab": {
          "resources": {
            "http://localhost:8080/nbextensions/google.colab/files.js": {
              "data": "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",
              "ok": true,
              "headers": [
                [
                  "content-type",
                  "application/javascript"
                ]
              ],
              "status": 200,
              "status_text": "OK"
            }
          },
          "base_uri": "https://localhost:8080/",
          "height": 561
        },
        "outputId": "d7bee91b-461c-4330-8288-72c3aa2d2e94"
      },
      "source": [
        "from google.colab import files\n",
        "import io\n",
        "\n",
        "uploaded = files.upload()\n",
        "\n",
        "for fn in uploaded.keys():\n",
        "  print('User uploaded file \"{name}\" with length {length} bytes'.format(name=fn, length=len(uploaded[fn])))"
      ],
      "execution_count": null,
      "outputs": [
        {
          "output_type": "display_data",
          "data": {
            "text/html": [
              "\n",
              "     <input type=\"file\" id=\"files-76243335-c29d-4007-82d0-7ff0ca20762f\" name=\"files[]\" multiple disabled\n",
              "        style=\"border:none\" />\n",
              "     <output id=\"result-76243335-c29d-4007-82d0-7ff0ca20762f\">\n",
              "      Upload widget is only available when the cell has been executed in the\n",
              "      current browser session. Please rerun this cell to enable.\n",
              "      </output>\n",
              "      <script src=\"/nbextensions/google.colab/files.js\"></script> "
            ],
            "text/plain": [
              "<IPython.core.display.HTML object>"
            ]
          },
          "metadata": {
            "tags": []
          }
        },
        {
          "output_type": "stream",
          "text": [
            "Saving 5_1_all_rank_noun.txt to 5_1_all_rank_noun.txt\n",
            "Saving 5_2_all_rank_verb.txt to 5_2_all_rank_verb.txt\n",
            "Saving 5_3_all_rank_adjective.txt to 5_3_all_rank_adjective.txt\n",
            "Saving 5_4_all_rank_adverb.txt to 5_4_all_rank_adverb.txt\n",
            "Saving 5_5_all_rank_pron.txt to 5_5_all_rank_pron.txt\n",
            "Saving 5_6_all_rank_determ.txt to 5_6_all_rank_determ.txt\n",
            "Saving 5_7_all_rank_detpro.txt to 5_7_all_rank_detpro.txt\n",
            "Saving 5_8_all_rank_preposition.txt to 5_8_all_rank_preposition.txt\n",
            "Saving 5_9_all_rank_conjunction.txt to 5_9_all_rank_conjunction.txt\n",
            "Saving 5_10_all_rank_interjection.txt to 5_10_all_rank_interjection.txt\n",
            "User uploaded file \"5_1_all_rank_noun.txt\" with length 35954 bytes\n",
            "User uploaded file \"5_2_all_rank_verb.txt\" with length 12295 bytes\n",
            "User uploaded file \"5_3_all_rank_adjective.txt\" with length 12902 bytes\n",
            "User uploaded file \"5_4_all_rank_adverb.txt\" with length 5454 bytes\n",
            "User uploaded file \"5_5_all_rank_pron.txt\" with length 558 bytes\n",
            "User uploaded file \"5_6_all_rank_determ.txt\" with length 127 bytes\n",
            "User uploaded file \"5_7_all_rank_detpro.txt\" with length 347 bytes\n",
            "User uploaded file \"5_8_all_rank_preposition.txt\" with length 1600 bytes\n",
            "User uploaded file \"5_9_all_rank_conjunction.txt\" with length 600 bytes\n",
            "User uploaded file \"5_10_all_rank_interjection.txt\" with length 151 bytes\n"
          ],
          "name": "stdout"
        }
      ]
    },
    {
      "cell_type": "code",
      "metadata": {
        "id": "eGm-U-cTKHDv",
        "colab_type": "code",
        "colab": {}
      },
      "source": [
        "# Tomo los nombres de los archivos\n",
        "filenames = list(uploaded.keys())"
      ],
      "execution_count": null,
      "outputs": []
    },
    {
      "cell_type": "code",
      "metadata": {
        "id": "DppzJQEbNcPG",
        "colab_type": "code",
        "colab": {
          "base_uri": "https://localhost:8080/",
          "height": 206
        },
        "outputId": "2330b786-bd01-4e8c-ca54-8640cc72b6a1"
      },
      "source": [
        "# Cargo el primero\n",
        "df = pd.read_csv(io.BytesIO(uploaded[filenames[0]]), sep='\\t', header=None)\n",
        "df.head()"
      ],
      "execution_count": null,
      "outputs": [
        {
          "output_type": "execute_result",
          "data": {
            "text/html": [
              "<div>\n",
              "<style scoped>\n",
              "    .dataframe tbody tr th:only-of-type {\n",
              "        vertical-align: middle;\n",
              "    }\n",
              "\n",
              "    .dataframe tbody tr th {\n",
              "        vertical-align: top;\n",
              "    }\n",
              "\n",
              "    .dataframe thead th {\n",
              "        text-align: right;\n",
              "    }\n",
              "</style>\n",
              "<table border=\"1\" class=\"dataframe\">\n",
              "  <thead>\n",
              "    <tr style=\"text-align: right;\">\n",
              "      <th></th>\n",
              "      <th>0</th>\n",
              "      <th>1</th>\n",
              "      <th>2</th>\n",
              "    </tr>\n",
              "  </thead>\n",
              "  <tbody>\n",
              "    <tr>\n",
              "      <th>0</th>\n",
              "      <td>NaN</td>\n",
              "      <td>time</td>\n",
              "      <td>1833</td>\n",
              "    </tr>\n",
              "    <tr>\n",
              "      <th>1</th>\n",
              "      <td>NaN</td>\n",
              "      <td>year</td>\n",
              "      <td>1639</td>\n",
              "    </tr>\n",
              "    <tr>\n",
              "      <th>2</th>\n",
              "      <td>NaN</td>\n",
              "      <td>people</td>\n",
              "      <td>1256</td>\n",
              "    </tr>\n",
              "    <tr>\n",
              "      <th>3</th>\n",
              "      <td>NaN</td>\n",
              "      <td>way</td>\n",
              "      <td>1108</td>\n",
              "    </tr>\n",
              "    <tr>\n",
              "      <th>4</th>\n",
              "      <td>NaN</td>\n",
              "      <td>man</td>\n",
              "      <td>1003</td>\n",
              "    </tr>\n",
              "  </tbody>\n",
              "</table>\n",
              "</div>"
            ],
            "text/plain": [
              "    0       1     2\n",
              "0 NaN    time  1833\n",
              "1 NaN    year  1639\n",
              "2 NaN  people  1256\n",
              "3 NaN     way  1108\n",
              "4 NaN     man  1003"
            ]
          },
          "metadata": {
            "tags": []
          },
          "execution_count": 14
        }
      ]
    },
    {
      "cell_type": "code",
      "metadata": {
        "id": "GT5NxpqEOIYs",
        "colab_type": "code",
        "colab": {
          "base_uri": "https://localhost:8080/",
          "height": 363
        },
        "outputId": "b7435669-93a0-4a2b-8f80-08ff75e5d5f9"
      },
      "source": [
        "# Cargo todos\n",
        "df = pd.read_csv(io.BytesIO(uploaded[filenames[0]]), sep='\\t', header=None)# Dataset is now stored in a Pandas Dataframe\n",
        "for filename in filenames[1:]:\n",
        "  df1 = pd.read_csv(io.BytesIO(uploaded[filename]), sep='\\t', header=None)# Dataset is now stored in a Pandas Dataframe\n",
        "  df = pd.concat([df, df1]) #join, merge\n",
        "  print('%s: size = %d, tot=%d'%(filename,df1.shape[0],df.shape[0]))\n",
        "df.head()"
      ],
      "execution_count": null,
      "outputs": [
        {
          "output_type": "stream",
          "text": [
            "5_2_all_rank_verb.txt: size = 1112, tot=4142\n",
            "5_3_all_rank_adjective.txt: size = 1035, tot=5177\n",
            "5_4_all_rank_adverb.txt: size = 429, tot=5606\n",
            "5_5_all_rank_pron.txt: size = 50, tot=5656\n",
            "5_6_all_rank_determ.txt: size = 13, tot=5669\n",
            "5_7_all_rank_detpro.txt: size = 32, tot=5701\n",
            "5_8_all_rank_preposition.txt: size = 122, tot=5823\n",
            "5_9_all_rank_conjunction.txt: size = 50, tot=5873\n",
            "5_10_all_rank_interjection.txt: size = 18, tot=5891\n"
          ],
          "name": "stdout"
        },
        {
          "output_type": "execute_result",
          "data": {
            "text/html": [
              "<div>\n",
              "<style scoped>\n",
              "    .dataframe tbody tr th:only-of-type {\n",
              "        vertical-align: middle;\n",
              "    }\n",
              "\n",
              "    .dataframe tbody tr th {\n",
              "        vertical-align: top;\n",
              "    }\n",
              "\n",
              "    .dataframe thead th {\n",
              "        text-align: right;\n",
              "    }\n",
              "</style>\n",
              "<table border=\"1\" class=\"dataframe\">\n",
              "  <thead>\n",
              "    <tr style=\"text-align: right;\">\n",
              "      <th></th>\n",
              "      <th>0</th>\n",
              "      <th>1</th>\n",
              "      <th>2</th>\n",
              "    </tr>\n",
              "  </thead>\n",
              "  <tbody>\n",
              "    <tr>\n",
              "      <th>0</th>\n",
              "      <td>NaN</td>\n",
              "      <td>time</td>\n",
              "      <td>1833</td>\n",
              "    </tr>\n",
              "    <tr>\n",
              "      <th>1</th>\n",
              "      <td>NaN</td>\n",
              "      <td>year</td>\n",
              "      <td>1639</td>\n",
              "    </tr>\n",
              "    <tr>\n",
              "      <th>2</th>\n",
              "      <td>NaN</td>\n",
              "      <td>people</td>\n",
              "      <td>1256</td>\n",
              "    </tr>\n",
              "    <tr>\n",
              "      <th>3</th>\n",
              "      <td>NaN</td>\n",
              "      <td>way</td>\n",
              "      <td>1108</td>\n",
              "    </tr>\n",
              "    <tr>\n",
              "      <th>4</th>\n",
              "      <td>NaN</td>\n",
              "      <td>man</td>\n",
              "      <td>1003</td>\n",
              "    </tr>\n",
              "  </tbody>\n",
              "</table>\n",
              "</div>"
            ],
            "text/plain": [
              "    0       1     2\n",
              "0 NaN    time  1833\n",
              "1 NaN    year  1639\n",
              "2 NaN  people  1256\n",
              "3 NaN     way  1108\n",
              "4 NaN     man  1003"
            ]
          },
          "metadata": {
            "tags": []
          },
          "execution_count": 15
        }
      ]
    },
    {
      "cell_type": "markdown",
      "metadata": {
        "id": "7sr1XlXEVrIX",
        "colab_type": "text"
      },
      "source": [
        "# Cargar los datos desde Google Drive"
      ]
    },
    {
      "cell_type": "code",
      "metadata": {
        "id": "odOtWy3pdf6X",
        "colab_type": "code",
        "colab": {}
      },
      "source": [
        "!pip install -U -q PyDrive\n",
        "import os\n",
        "from pydrive.auth import GoogleAuth\n",
        "from pydrive.drive import GoogleDrive\n",
        "from google.colab import auth\n",
        "from oauth2client.client import GoogleCredentials\n",
        "\n",
        "# 1. Authenticate and create the PyDrive client.\n",
        "auth.authenticate_user()\n",
        "gauth = GoogleAuth()\n",
        "gauth.credentials = GoogleCredentials.get_application_default()\n",
        "drive = GoogleDrive(gauth)"
      ],
      "execution_count": null,
      "outputs": []
    },
    {
      "cell_type": "code",
      "metadata": {
        "id": "eTb_Ic-MioR4",
        "colab_type": "code",
        "colab": {}
      },
      "source": [
        "# choose a local (colab) directory to store the data.\n",
        "local_download_path = os.path.expanduser('~/data')\n",
        "try:\n",
        "  os.makedirs(local_download_path)\n",
        "except: pass"
      ],
      "execution_count": null,
      "outputs": []
    },
    {
      "cell_type": "code",
      "metadata": {
        "id": "5s-1chTlkOwD",
        "colab_type": "code",
        "colab": {}
      },
      "source": [
        ""
      ],
      "execution_count": null,
      "outputs": []
    },
    {
      "cell_type": "markdown",
      "metadata": {
        "id": "0S4QkBhOjp85",
        "colab_type": "text"
      },
      "source": [
        "Dos cosas que van a necesitar\n",
        "1. Al subir los documentos no se tienen que convertir automaticamente a Google Doc (.gdoc). Para eso, en Google Drive van a Configuración (o Settings) y descliquean la opción: 'Convertir Archivos Subidos'\n",
        "1. Una vez que estan en el navegador, en la carpeta que quieren del drive van a ver que la dirección es: https://drive.google.com/drive/folders/\"___CODIGO___\". Tienen que copiar ese código y pegarlo donde dice ___CODIGO___ en la celda de abajo.\n",
        "1. Probablemente, en algún punto les va a abrir una ventana de google para autorizar a colab a acceder al drive"
      ]
    },
    {
      "cell_type": "code",
      "metadata": {
        "id": "qGW925xAisBJ",
        "colab_type": "code",
        "colab": {}
      },
      "source": [
        "# 2. Auto-iterate using the query syntax\n",
        "#    https://developers.google.com/drive/v2/web/search-parameters\n",
        "#file_list = drive.ListFile(\n",
        "#    {'q': \"___CODIGO___ in parents\"}).GetList()\n",
        "file_list = drive.ListFile(\n",
        "    {'q': \"'1RjAnTdnkTpBqAFx69YDNQLF3RWt-4S6D' in parents\"}).GetList()"
      ],
      "execution_count": null,
      "outputs": []
    },
    {
      "cell_type": "code",
      "metadata": {
        "id": "1HDcztX6fkXj",
        "colab_type": "code",
        "colab": {
          "base_uri": "https://localhost:8080/",
          "height": 364
        },
        "outputId": "231bcc1f-dc25-43c5-8928-6a7e61223502"
      },
      "source": [
        "# 3. Create & download by id.\n",
        "for f in file_list:\n",
        "  print('title: %s, id: %s' % (f['title'], f['id']))\n",
        "  fname = os.path.join(local_download_path, f['title'])\n",
        "  print('downloading to {}'.format(fname))\n",
        "  f_ = drive.CreateFile({'id': f['id']})\n",
        "  f_.GetContentFile(fname)"
      ],
      "execution_count": null,
      "outputs": [
        {
          "output_type": "stream",
          "text": [
            "title: 5_7_all_rank_detpro.txt, id: 12NC_anUNrzLe-iN1y_AQSu_GgVT5qYat\n",
            "downloading to /root/data/5_7_all_rank_detpro.txt\n",
            "title: 5_4_all_rank_adverb.txt, id: 1qpKDGeX77anpldZAnAl9eCDXi0MCZsu5\n",
            "downloading to /root/data/5_4_all_rank_adverb.txt\n",
            "title: 5_6_all_rank_determ.txt, id: 1NkMCghSPt5-DlBPgN1V_lkcx6DNfXxZz\n",
            "downloading to /root/data/5_6_all_rank_determ.txt\n",
            "title: 5_3_all_rank_adjective.txt, id: 1QTKlGQe_ge9l_SzaBD5tQY4XDu3A4GHb\n",
            "downloading to /root/data/5_3_all_rank_adjective.txt\n",
            "title: 5_10_all_rank_interjection.txt, id: 1wFAmv5ZKJgvxLF13juyZj8jhjuM_RRKE\n",
            "downloading to /root/data/5_10_all_rank_interjection.txt\n",
            "title: 5_1_all_rank_noun.txt, id: 1_NjgImtpKUc_bZJWt7fz2MHqmm5HzeN0\n",
            "downloading to /root/data/5_1_all_rank_noun.txt\n",
            "title: 5_2_all_rank_verb.txt, id: 1pUoBcvZnfcaHYbHDEGKZw4tkUl9hxgJ9\n",
            "downloading to /root/data/5_2_all_rank_verb.txt\n",
            "title: 5_9_all_rank_conjunction.txt, id: 1HhJ5U728hGL5BXY_vsrDFAIE3spqf4Nc\n",
            "downloading to /root/data/5_9_all_rank_conjunction.txt\n",
            "title: 5_8_all_rank_preposition.txt, id: 1620th2NFgSFZstrFAEo_60iuQ-h9ZGzW\n",
            "downloading to /root/data/5_8_all_rank_preposition.txt\n",
            "title: 5_5_all_rank_pron.txt, id: 1xk_SmX1v0sIZxhRp3tOGXg_wkf1zQfOJ\n",
            "downloading to /root/data/5_5_all_rank_pron.txt\n"
          ],
          "name": "stdout"
        }
      ]
    },
    {
      "cell_type": "code",
      "metadata": {
        "id": "II_5Pgl8ZIL0",
        "colab_type": "code",
        "colab": {
          "base_uri": "https://localhost:8080/",
          "height": 211
        },
        "outputId": "38f50f2a-947d-40cd-feed-37c40c721ec4"
      },
      "source": [
        "file_list"
      ],
      "execution_count": null,
      "outputs": [
        {
          "output_type": "execute_result",
          "data": {
            "text/plain": [
              "[GoogleDriveFile({'kind': 'drive#file', 'id': '12NC_anUNrzLe-iN1y_AQSu_GgVT5qYat', 'etag': '\"MTQxNTczMDgxMzAwMA\"', 'selfLink': 'https://www.googleapis.com/drive/v2/files/12NC_anUNrzLe-iN1y_AQSu_GgVT5qYat', 'webContentLink': 'https://drive.google.com/uc?id=12NC_anUNrzLe-iN1y_AQSu_GgVT5qYat&export=download', 'alternateLink': 'https://drive.google.com/file/d/12NC_anUNrzLe-iN1y_AQSu_GgVT5qYat/view?usp=drivesdk', 'embedLink': 'https://drive.google.com/file/d/12NC_anUNrzLe-iN1y_AQSu_GgVT5qYat/preview?usp=drivesdk', 'iconLink': 'https://drive-thirdparty.googleusercontent.com/16/type/text/plain', 'thumbnailLink': 'https://lh3.googleusercontent.com/K4SpWFar2FGc7nisIQ_e_SRhj9vixcJs36pu_rk6MaSKDnZ-5-VnIx3L84omlE9vUoQoS_8sqVg=s220', 'title': '5_7_all_rank_detpro.txt', 'mimeType': 'text/plain', 'labels': {'starred': False, 'hidden': False, 'trashed': False, 'restricted': False, 'viewed': True}, 'copyRequiresWriterPermission': False, 'createdDate': '2020-07-02T02:57:24.942Z', 'modifiedDate': '2014-11-11T18:33:33.000Z', 'modifiedByMeDate': '2014-11-11T18:33:33.000Z', 'lastViewedByMeDate': '2020-07-02T02:57:24.942Z', 'markedViewedByMeDate': '1970-01-01T00:00:00.000Z', 'version': '2', 'parents': [{'kind': 'drive#parentReference', 'id': '1RjAnTdnkTpBqAFx69YDNQLF3RWt-4S6D', 'selfLink': 'https://www.googleapis.com/drive/v2/files/12NC_anUNrzLe-iN1y_AQSu_GgVT5qYat/parents/1RjAnTdnkTpBqAFx69YDNQLF3RWt-4S6D', 'parentLink': 'https://www.googleapis.com/drive/v2/files/1RjAnTdnkTpBqAFx69YDNQLF3RWt-4S6D', 'isRoot': False}], 'downloadUrl': 'https://www.googleapis.com/drive/v2/files/12NC_anUNrzLe-iN1y_AQSu_GgVT5qYat?alt=media&source=downloadUrl', 'userPermission': {'kind': 'drive#permission', 'etag': '\"y4eNx_LFCx2tabYutjMDWsLmaZ8\"', 'id': 'me', 'selfLink': 'https://www.googleapis.com/drive/v2/files/12NC_anUNrzLe-iN1y_AQSu_GgVT5qYat/permissions/me', 'role': 'owner', 'type': 'user'}, 'originalFilename': '5_7_all_rank_detpro.txt', 'fileExtension': 'txt', 'md5Checksum': '06c677f159fbef17320ec08352d8c283', 'fileSize': '347', 'quotaBytesUsed': '347', 'ownerNames': ['Juan K'], 'owners': [{'kind': 'drive#user', 'displayName': 'Juan K', 'picture': {'url': 'https://lh3.googleusercontent.com/a-/AOh14GjnQxFtP80s69qD0gkERyTP94Jmc0Xy0NkaWOoI=s64'}, 'isAuthenticatedUser': True, 'permissionId': '09966068270383507102', 'emailAddress': 'jkamienk@gmail.com'}], 'lastModifyingUserName': 'Juan K', 'lastModifyingUser': {'kind': 'drive#user', 'displayName': 'Juan K', 'picture': {'url': 'https://lh3.googleusercontent.com/a-/AOh14GjnQxFtP80s69qD0gkERyTP94Jmc0Xy0NkaWOoI=s64'}, 'isAuthenticatedUser': True, 'permissionId': '09966068270383507102', 'emailAddress': 'jkamienk@gmail.com'}, 'capabilities': {'canCopy': True, 'canEdit': True}, 'editable': True, 'copyable': True, 'writersCanShare': True, 'shared': True, 'explicitlyTrashed': False, 'appDataContents': False, 'headRevisionId': '0B8JUdC6yu7VDNHRvRlowc1BmYlV4WjQvelliTVpaQklYYzFrPQ', 'spaces': ['drive']}),\n",
              " GoogleDriveFile({'kind': 'drive#file', 'id': '1qpKDGeX77anpldZAnAl9eCDXi0MCZsu5', 'etag': '\"MTQxNTczMDgxMzAwMA\"', 'selfLink': 'https://www.googleapis.com/drive/v2/files/1qpKDGeX77anpldZAnAl9eCDXi0MCZsu5', 'webContentLink': 'https://drive.google.com/uc?id=1qpKDGeX77anpldZAnAl9eCDXi0MCZsu5&export=download', 'alternateLink': 'https://drive.google.com/file/d/1qpKDGeX77anpldZAnAl9eCDXi0MCZsu5/view?usp=drivesdk', 'embedLink': 'https://drive.google.com/file/d/1qpKDGeX77anpldZAnAl9eCDXi0MCZsu5/preview?usp=drivesdk', 'iconLink': 'https://drive-thirdparty.googleusercontent.com/16/type/text/plain', 'thumbnailLink': 'https://lh3.googleusercontent.com/KHnieYN_mweYEOmtHDXE9RrSwqL3ajANCIvQ62Vty_HWwxXFhEX6733Vl59nhsnnBywgnS3gWNs=s220', 'title': '5_4_all_rank_adverb.txt', 'mimeType': 'text/plain', 'labels': {'starred': False, 'hidden': False, 'trashed': False, 'restricted': False, 'viewed': True}, 'copyRequiresWriterPermission': False, 'createdDate': '2020-07-02T02:57:21.522Z', 'modifiedDate': '2014-11-11T18:33:33.000Z', 'modifiedByMeDate': '2014-11-11T18:33:33.000Z', 'lastViewedByMeDate': '2020-07-02T02:57:21.522Z', 'markedViewedByMeDate': '1970-01-01T00:00:00.000Z', 'version': '2', 'parents': [{'kind': 'drive#parentReference', 'id': '1RjAnTdnkTpBqAFx69YDNQLF3RWt-4S6D', 'selfLink': 'https://www.googleapis.com/drive/v2/files/1qpKDGeX77anpldZAnAl9eCDXi0MCZsu5/parents/1RjAnTdnkTpBqAFx69YDNQLF3RWt-4S6D', 'parentLink': 'https://www.googleapis.com/drive/v2/files/1RjAnTdnkTpBqAFx69YDNQLF3RWt-4S6D', 'isRoot': False}], 'downloadUrl': 'https://www.googleapis.com/drive/v2/files/1qpKDGeX77anpldZAnAl9eCDXi0MCZsu5?alt=media&source=downloadUrl', 'userPermission': {'kind': 'drive#permission', 'etag': '\"widhoHihIjwQ_C8BqJL1K2n_y5A\"', 'id': 'me', 'selfLink': 'https://www.googleapis.com/drive/v2/files/1qpKDGeX77anpldZAnAl9eCDXi0MCZsu5/permissions/me', 'role': 'owner', 'type': 'user'}, 'originalFilename': '5_4_all_rank_adverb.txt', 'fileExtension': 'txt', 'md5Checksum': '0ad28aa804f369f5940a9c9a9695483e', 'fileSize': '5454', 'quotaBytesUsed': '5454', 'ownerNames': ['Juan K'], 'owners': [{'kind': 'drive#user', 'displayName': 'Juan K', 'picture': {'url': 'https://lh3.googleusercontent.com/a-/AOh14GjnQxFtP80s69qD0gkERyTP94Jmc0Xy0NkaWOoI=s64'}, 'isAuthenticatedUser': True, 'permissionId': '09966068270383507102', 'emailAddress': 'jkamienk@gmail.com'}], 'lastModifyingUserName': 'Juan K', 'lastModifyingUser': {'kind': 'drive#user', 'displayName': 'Juan K', 'picture': {'url': 'https://lh3.googleusercontent.com/a-/AOh14GjnQxFtP80s69qD0gkERyTP94Jmc0Xy0NkaWOoI=s64'}, 'isAuthenticatedUser': True, 'permissionId': '09966068270383507102', 'emailAddress': 'jkamienk@gmail.com'}, 'capabilities': {'canCopy': True, 'canEdit': True}, 'editable': True, 'copyable': True, 'writersCanShare': True, 'shared': True, 'explicitlyTrashed': False, 'appDataContents': False, 'headRevisionId': '0B8JUdC6yu7VDMVV1VHZ6bVVlL2t1N1hzMHNsajBGWUFoQWxjPQ', 'spaces': ['drive']}),\n",
              " GoogleDriveFile({'kind': 'drive#file', 'id': '1NkMCghSPt5-DlBPgN1V_lkcx6DNfXxZz', 'etag': '\"MTQxNTczMDgxMzAwMA\"', 'selfLink': 'https://www.googleapis.com/drive/v2/files/1NkMCghSPt5-DlBPgN1V_lkcx6DNfXxZz', 'webContentLink': 'https://drive.google.com/uc?id=1NkMCghSPt5-DlBPgN1V_lkcx6DNfXxZz&export=download', 'alternateLink': 'https://drive.google.com/file/d/1NkMCghSPt5-DlBPgN1V_lkcx6DNfXxZz/view?usp=drivesdk', 'embedLink': 'https://drive.google.com/file/d/1NkMCghSPt5-DlBPgN1V_lkcx6DNfXxZz/preview?usp=drivesdk', 'iconLink': 'https://drive-thirdparty.googleusercontent.com/16/type/text/plain', 'thumbnailLink': 'https://lh3.googleusercontent.com/hrRo8Gs-K7ANzRf614YKc5N46OoPm0JPzcjmtibJbsM4GiIF47IZujpNBMpEmquevJC5HH3OrIo=s220', 'title': '5_6_all_rank_determ.txt', 'mimeType': 'text/plain', 'labels': {'starred': False, 'hidden': False, 'trashed': False, 'restricted': False, 'viewed': True}, 'copyRequiresWriterPermission': False, 'createdDate': '2020-07-02T02:57:22.428Z', 'modifiedDate': '2014-11-11T18:33:33.000Z', 'modifiedByMeDate': '2014-11-11T18:33:33.000Z', 'lastViewedByMeDate': '2020-07-02T02:57:22.428Z', 'markedViewedByMeDate': '1970-01-01T00:00:00.000Z', 'version': '2', 'parents': [{'kind': 'drive#parentReference', 'id': '1RjAnTdnkTpBqAFx69YDNQLF3RWt-4S6D', 'selfLink': 'https://www.googleapis.com/drive/v2/files/1NkMCghSPt5-DlBPgN1V_lkcx6DNfXxZz/parents/1RjAnTdnkTpBqAFx69YDNQLF3RWt-4S6D', 'parentLink': 'https://www.googleapis.com/drive/v2/files/1RjAnTdnkTpBqAFx69YDNQLF3RWt-4S6D', 'isRoot': False}], 'downloadUrl': 'https://www.googleapis.com/drive/v2/files/1NkMCghSPt5-DlBPgN1V_lkcx6DNfXxZz?alt=media&source=downloadUrl', 'userPermission': {'kind': 'drive#permission', 'etag': '\"70YTaKCtSzqW7_jj0rNS_ha5ARE\"', 'id': 'me', 'selfLink': 'https://www.googleapis.com/drive/v2/files/1NkMCghSPt5-DlBPgN1V_lkcx6DNfXxZz/permissions/me', 'role': 'owner', 'type': 'user'}, 'originalFilename': '5_6_all_rank_determ.txt', 'fileExtension': 'txt', 'md5Checksum': 'd19a61b3326b0fea83c476e58f7af018', 'fileSize': '127', 'quotaBytesUsed': '127', 'ownerNames': ['Juan K'], 'owners': [{'kind': 'drive#user', 'displayName': 'Juan K', 'picture': {'url': 'https://lh3.googleusercontent.com/a-/AOh14GjnQxFtP80s69qD0gkERyTP94Jmc0Xy0NkaWOoI=s64'}, 'isAuthenticatedUser': True, 'permissionId': '09966068270383507102', 'emailAddress': 'jkamienk@gmail.com'}], 'lastModifyingUserName': 'Juan K', 'lastModifyingUser': {'kind': 'drive#user', 'displayName': 'Juan K', 'picture': {'url': 'https://lh3.googleusercontent.com/a-/AOh14GjnQxFtP80s69qD0gkERyTP94Jmc0Xy0NkaWOoI=s64'}, 'isAuthenticatedUser': True, 'permissionId': '09966068270383507102', 'emailAddress': 'jkamienk@gmail.com'}, 'capabilities': {'canCopy': True, 'canEdit': True}, 'editable': True, 'copyable': True, 'writersCanShare': True, 'shared': True, 'explicitlyTrashed': False, 'appDataContents': False, 'headRevisionId': '0B8JUdC6yu7VDdVZjWUI5SFlmTFhIdDBTU2g0QURMcHFUenE4PQ', 'spaces': ['drive']}),\n",
              " GoogleDriveFile({'kind': 'drive#file', 'id': '1QTKlGQe_ge9l_SzaBD5tQY4XDu3A4GHb', 'etag': '\"MTQxNTczMDgxMzAwMA\"', 'selfLink': 'https://www.googleapis.com/drive/v2/files/1QTKlGQe_ge9l_SzaBD5tQY4XDu3A4GHb', 'webContentLink': 'https://drive.google.com/uc?id=1QTKlGQe_ge9l_SzaBD5tQY4XDu3A4GHb&export=download', 'alternateLink': 'https://drive.google.com/file/d/1QTKlGQe_ge9l_SzaBD5tQY4XDu3A4GHb/view?usp=drivesdk', 'embedLink': 'https://drive.google.com/file/d/1QTKlGQe_ge9l_SzaBD5tQY4XDu3A4GHb/preview?usp=drivesdk', 'iconLink': 'https://drive-thirdparty.googleusercontent.com/16/type/text/plain', 'thumbnailLink': 'https://lh3.googleusercontent.com/VTYV3aEMLFyWX4K4-Mw-SX9nwJcmcQrHju9j7HPHPRAu_CMT0IVlUuAkN0EKHjYRKpHXVc_t2yU=s220', 'title': '5_3_all_rank_adjective.txt', 'mimeType': 'text/plain', 'labels': {'starred': False, 'hidden': False, 'trashed': False, 'restricted': False, 'viewed': True}, 'copyRequiresWriterPermission': False, 'createdDate': '2020-07-02T02:57:22.861Z', 'modifiedDate': '2014-11-11T18:33:33.000Z', 'modifiedByMeDate': '2014-11-11T18:33:33.000Z', 'lastViewedByMeDate': '2020-07-02T02:57:22.861Z', 'markedViewedByMeDate': '1970-01-01T00:00:00.000Z', 'version': '2', 'parents': [{'kind': 'drive#parentReference', 'id': '1RjAnTdnkTpBqAFx69YDNQLF3RWt-4S6D', 'selfLink': 'https://www.googleapis.com/drive/v2/files/1QTKlGQe_ge9l_SzaBD5tQY4XDu3A4GHb/parents/1RjAnTdnkTpBqAFx69YDNQLF3RWt-4S6D', 'parentLink': 'https://www.googleapis.com/drive/v2/files/1RjAnTdnkTpBqAFx69YDNQLF3RWt-4S6D', 'isRoot': False}], 'downloadUrl': 'https://www.googleapis.com/drive/v2/files/1QTKlGQe_ge9l_SzaBD5tQY4XDu3A4GHb?alt=media&source=downloadUrl', 'userPermission': {'kind': 'drive#permission', 'etag': '\"xTKmJs63U6Ytb93n2MCAzVnqL68\"', 'id': 'me', 'selfLink': 'https://www.googleapis.com/drive/v2/files/1QTKlGQe_ge9l_SzaBD5tQY4XDu3A4GHb/permissions/me', 'role': 'owner', 'type': 'user'}, 'originalFilename': '5_3_all_rank_adjective.txt', 'fileExtension': 'txt', 'md5Checksum': '6ccc9601d23c6e0da17c12702a069a25', 'fileSize': '12902', 'quotaBytesUsed': '12902', 'ownerNames': ['Juan K'], 'owners': [{'kind': 'drive#user', 'displayName': 'Juan K', 'picture': {'url': 'https://lh3.googleusercontent.com/a-/AOh14GjnQxFtP80s69qD0gkERyTP94Jmc0Xy0NkaWOoI=s64'}, 'isAuthenticatedUser': True, 'permissionId': '09966068270383507102', 'emailAddress': 'jkamienk@gmail.com'}], 'lastModifyingUserName': 'Juan K', 'lastModifyingUser': {'kind': 'drive#user', 'displayName': 'Juan K', 'picture': {'url': 'https://lh3.googleusercontent.com/a-/AOh14GjnQxFtP80s69qD0gkERyTP94Jmc0Xy0NkaWOoI=s64'}, 'isAuthenticatedUser': True, 'permissionId': '09966068270383507102', 'emailAddress': 'jkamienk@gmail.com'}, 'capabilities': {'canCopy': True, 'canEdit': True}, 'editable': True, 'copyable': True, 'writersCanShare': True, 'shared': True, 'explicitlyTrashed': False, 'appDataContents': False, 'headRevisionId': '0B8JUdC6yu7VDdlNESWx6dTJXZU5wTkZxaU5peEJlSUxxTWJzPQ', 'spaces': ['drive']}),\n",
              " GoogleDriveFile({'kind': 'drive#file', 'id': '1wFAmv5ZKJgvxLF13juyZj8jhjuM_RRKE', 'etag': '\"MTQxNTczMDgxMzAwMA\"', 'selfLink': 'https://www.googleapis.com/drive/v2/files/1wFAmv5ZKJgvxLF13juyZj8jhjuM_RRKE', 'webContentLink': 'https://drive.google.com/uc?id=1wFAmv5ZKJgvxLF13juyZj8jhjuM_RRKE&export=download', 'alternateLink': 'https://drive.google.com/file/d/1wFAmv5ZKJgvxLF13juyZj8jhjuM_RRKE/view?usp=drivesdk', 'embedLink': 'https://drive.google.com/file/d/1wFAmv5ZKJgvxLF13juyZj8jhjuM_RRKE/preview?usp=drivesdk', 'iconLink': 'https://drive-thirdparty.googleusercontent.com/16/type/text/plain', 'thumbnailLink': 'https://lh3.googleusercontent.com/3lQzvxVpe7HDqLpcqJezwmE_4U-1embBLVNqn9GFrJVXzyTYwiJ7Ow8txFs5XdX0Ea1AQS_vY1Q=s220', 'title': '5_10_all_rank_interjection.txt', 'mimeType': 'text/plain', 'labels': {'starred': False, 'hidden': False, 'trashed': False, 'restricted': False, 'viewed': True}, 'copyRequiresWriterPermission': False, 'createdDate': '2020-07-02T02:57:21.833Z', 'modifiedDate': '2014-11-11T18:33:33.000Z', 'modifiedByMeDate': '2014-11-11T18:33:33.000Z', 'lastViewedByMeDate': '2020-07-02T02:57:21.833Z', 'markedViewedByMeDate': '1970-01-01T00:00:00.000Z', 'version': '2', 'parents': [{'kind': 'drive#parentReference', 'id': '1RjAnTdnkTpBqAFx69YDNQLF3RWt-4S6D', 'selfLink': 'https://www.googleapis.com/drive/v2/files/1wFAmv5ZKJgvxLF13juyZj8jhjuM_RRKE/parents/1RjAnTdnkTpBqAFx69YDNQLF3RWt-4S6D', 'parentLink': 'https://www.googleapis.com/drive/v2/files/1RjAnTdnkTpBqAFx69YDNQLF3RWt-4S6D', 'isRoot': False}], 'downloadUrl': 'https://www.googleapis.com/drive/v2/files/1wFAmv5ZKJgvxLF13juyZj8jhjuM_RRKE?alt=media&source=downloadUrl', 'userPermission': {'kind': 'drive#permission', 'etag': '\"mY1iXdwt57W4QrLzYo6jN7Khsco\"', 'id': 'me', 'selfLink': 'https://www.googleapis.com/drive/v2/files/1wFAmv5ZKJgvxLF13juyZj8jhjuM_RRKE/permissions/me', 'role': 'owner', 'type': 'user'}, 'originalFilename': '5_10_all_rank_interjection.txt', 'fileExtension': 'txt', 'md5Checksum': 'cb2dc6d31921861a16ddd688d0433d1f', 'fileSize': '151', 'quotaBytesUsed': '151', 'ownerNames': ['Juan K'], 'owners': [{'kind': 'drive#user', 'displayName': 'Juan K', 'picture': {'url': 'https://lh3.googleusercontent.com/a-/AOh14GjnQxFtP80s69qD0gkERyTP94Jmc0Xy0NkaWOoI=s64'}, 'isAuthenticatedUser': True, 'permissionId': '09966068270383507102', 'emailAddress': 'jkamienk@gmail.com'}], 'lastModifyingUserName': 'Juan K', 'lastModifyingUser': {'kind': 'drive#user', 'displayName': 'Juan K', 'picture': {'url': 'https://lh3.googleusercontent.com/a-/AOh14GjnQxFtP80s69qD0gkERyTP94Jmc0Xy0NkaWOoI=s64'}, 'isAuthenticatedUser': True, 'permissionId': '09966068270383507102', 'emailAddress': 'jkamienk@gmail.com'}, 'capabilities': {'canCopy': True, 'canEdit': True}, 'editable': True, 'copyable': True, 'writersCanShare': True, 'shared': True, 'explicitlyTrashed': False, 'appDataContents': False, 'headRevisionId': '0B8JUdC6yu7VDQ3FndlZ5bTZ0dkVSaGRoYkZqSkJFZ09VL2JZPQ', 'spaces': ['drive']}),\n",
              " GoogleDriveFile({'kind': 'drive#file', 'id': '1_NjgImtpKUc_bZJWt7fz2MHqmm5HzeN0', 'etag': '\"MTQxNTczMDgxMzAwMA\"', 'selfLink': 'https://www.googleapis.com/drive/v2/files/1_NjgImtpKUc_bZJWt7fz2MHqmm5HzeN0', 'webContentLink': 'https://drive.google.com/uc?id=1_NjgImtpKUc_bZJWt7fz2MHqmm5HzeN0&export=download', 'alternateLink': 'https://drive.google.com/file/d/1_NjgImtpKUc_bZJWt7fz2MHqmm5HzeN0/view?usp=drivesdk', 'embedLink': 'https://drive.google.com/file/d/1_NjgImtpKUc_bZJWt7fz2MHqmm5HzeN0/preview?usp=drivesdk', 'iconLink': 'https://drive-thirdparty.googleusercontent.com/16/type/text/plain', 'thumbnailLink': 'https://lh3.googleusercontent.com/u3LcwC021aCGcwWKETUvIlxfUf-h8_xWLWaPij5yEePkjmwR5oFBqhZjErVp9SGecOewgAnj0Jo=s220', 'title': '5_1_all_rank_noun.txt', 'mimeType': 'text/plain', 'labels': {'starred': False, 'hidden': False, 'trashed': False, 'restricted': False, 'viewed': True}, 'copyRequiresWriterPermission': False, 'createdDate': '2020-07-02T02:57:22.428Z', 'modifiedDate': '2014-11-11T18:33:33.000Z', 'modifiedByMeDate': '2014-11-11T18:33:33.000Z', 'lastViewedByMeDate': '2020-07-02T02:57:22.428Z', 'markedViewedByMeDate': '1970-01-01T00:00:00.000Z', 'version': '2', 'parents': [{'kind': 'drive#parentReference', 'id': '1RjAnTdnkTpBqAFx69YDNQLF3RWt-4S6D', 'selfLink': 'https://www.googleapis.com/drive/v2/files/1_NjgImtpKUc_bZJWt7fz2MHqmm5HzeN0/parents/1RjAnTdnkTpBqAFx69YDNQLF3RWt-4S6D', 'parentLink': 'https://www.googleapis.com/drive/v2/files/1RjAnTdnkTpBqAFx69YDNQLF3RWt-4S6D', 'isRoot': False}], 'downloadUrl': 'https://www.googleapis.com/drive/v2/files/1_NjgImtpKUc_bZJWt7fz2MHqmm5HzeN0?alt=media&source=downloadUrl', 'userPermission': {'kind': 'drive#permission', 'etag': '\"ifL8vyzYgB92O90ugeXuKJmt9BY\"', 'id': 'me', 'selfLink': 'https://www.googleapis.com/drive/v2/files/1_NjgImtpKUc_bZJWt7fz2MHqmm5HzeN0/permissions/me', 'role': 'owner', 'type': 'user'}, 'originalFilename': '5_1_all_rank_noun.txt', 'fileExtension': 'txt', 'md5Checksum': '8a67038bb4dc295f2a98f2b6f6139f05', 'fileSize': '35954', 'quotaBytesUsed': '35954', 'ownerNames': ['Juan K'], 'owners': [{'kind': 'drive#user', 'displayName': 'Juan K', 'picture': {'url': 'https://lh3.googleusercontent.com/a-/AOh14GjnQxFtP80s69qD0gkERyTP94Jmc0Xy0NkaWOoI=s64'}, 'isAuthenticatedUser': True, 'permissionId': '09966068270383507102', 'emailAddress': 'jkamienk@gmail.com'}], 'lastModifyingUserName': 'Juan K', 'lastModifyingUser': {'kind': 'drive#user', 'displayName': 'Juan K', 'picture': {'url': 'https://lh3.googleusercontent.com/a-/AOh14GjnQxFtP80s69qD0gkERyTP94Jmc0Xy0NkaWOoI=s64'}, 'isAuthenticatedUser': True, 'permissionId': '09966068270383507102', 'emailAddress': 'jkamienk@gmail.com'}, 'capabilities': {'canCopy': True, 'canEdit': True}, 'editable': True, 'copyable': True, 'writersCanShare': True, 'shared': True, 'explicitlyTrashed': False, 'appDataContents': False, 'headRevisionId': '0B8JUdC6yu7VDNlVYNWUxTzEzUFk0dUg3L3VHRHBmR25qaTZBPQ', 'spaces': ['drive']}),\n",
              " GoogleDriveFile({'kind': 'drive#file', 'id': '1pUoBcvZnfcaHYbHDEGKZw4tkUl9hxgJ9', 'etag': '\"MTQxNTczMDgxMzAwMA\"', 'selfLink': 'https://www.googleapis.com/drive/v2/files/1pUoBcvZnfcaHYbHDEGKZw4tkUl9hxgJ9', 'webContentLink': 'https://drive.google.com/uc?id=1pUoBcvZnfcaHYbHDEGKZw4tkUl9hxgJ9&export=download', 'alternateLink': 'https://drive.google.com/file/d/1pUoBcvZnfcaHYbHDEGKZw4tkUl9hxgJ9/view?usp=drivesdk', 'embedLink': 'https://drive.google.com/file/d/1pUoBcvZnfcaHYbHDEGKZw4tkUl9hxgJ9/preview?usp=drivesdk', 'iconLink': 'https://drive-thirdparty.googleusercontent.com/16/type/text/plain', 'thumbnailLink': 'https://lh3.googleusercontent.com/uQpb2odGGQX2faSz4jwU9tEwJmpdpAR5nykq5cL_E1uhKF-FbMVFNvgwbPI0AZ7Woep6_02JJdc=s220', 'title': '5_2_all_rank_verb.txt', 'mimeType': 'text/plain', 'labels': {'starred': False, 'hidden': False, 'trashed': False, 'restricted': False, 'viewed': True}, 'copyRequiresWriterPermission': False, 'createdDate': '2020-07-02T02:57:22.428Z', 'modifiedDate': '2014-11-11T18:33:33.000Z', 'modifiedByMeDate': '2014-11-11T18:33:33.000Z', 'lastViewedByMeDate': '2020-07-02T02:57:22.428Z', 'markedViewedByMeDate': '1970-01-01T00:00:00.000Z', 'version': '2', 'parents': [{'kind': 'drive#parentReference', 'id': '1RjAnTdnkTpBqAFx69YDNQLF3RWt-4S6D', 'selfLink': 'https://www.googleapis.com/drive/v2/files/1pUoBcvZnfcaHYbHDEGKZw4tkUl9hxgJ9/parents/1RjAnTdnkTpBqAFx69YDNQLF3RWt-4S6D', 'parentLink': 'https://www.googleapis.com/drive/v2/files/1RjAnTdnkTpBqAFx69YDNQLF3RWt-4S6D', 'isRoot': False}], 'downloadUrl': 'https://www.googleapis.com/drive/v2/files/1pUoBcvZnfcaHYbHDEGKZw4tkUl9hxgJ9?alt=media&source=downloadUrl', 'userPermission': {'kind': 'drive#permission', 'etag': '\"rRFOkjzvg93bIN6xwZu80Mt2prk\"', 'id': 'me', 'selfLink': 'https://www.googleapis.com/drive/v2/files/1pUoBcvZnfcaHYbHDEGKZw4tkUl9hxgJ9/permissions/me', 'role': 'owner', 'type': 'user'}, 'originalFilename': '5_2_all_rank_verb.txt', 'fileExtension': 'txt', 'md5Checksum': 'a658b7f1c5aab8b612e54f9e01bb106e', 'fileSize': '12295', 'quotaBytesUsed': '12295', 'ownerNames': ['Juan K'], 'owners': [{'kind': 'drive#user', 'displayName': 'Juan K', 'picture': {'url': 'https://lh3.googleusercontent.com/a-/AOh14GjnQxFtP80s69qD0gkERyTP94Jmc0Xy0NkaWOoI=s64'}, 'isAuthenticatedUser': True, 'permissionId': '09966068270383507102', 'emailAddress': 'jkamienk@gmail.com'}], 'lastModifyingUserName': 'Juan K', 'lastModifyingUser': {'kind': 'drive#user', 'displayName': 'Juan K', 'picture': {'url': 'https://lh3.googleusercontent.com/a-/AOh14GjnQxFtP80s69qD0gkERyTP94Jmc0Xy0NkaWOoI=s64'}, 'isAuthenticatedUser': True, 'permissionId': '09966068270383507102', 'emailAddress': 'jkamienk@gmail.com'}, 'capabilities': {'canCopy': True, 'canEdit': True}, 'editable': True, 'copyable': True, 'writersCanShare': True, 'shared': True, 'explicitlyTrashed': False, 'appDataContents': False, 'headRevisionId': '0B8JUdC6yu7VDV1pYRGoxVDJkNEpKV0JZaE5xSzVETW1WZ3BBPQ', 'spaces': ['drive']}),\n",
              " GoogleDriveFile({'kind': 'drive#file', 'id': '1HhJ5U728hGL5BXY_vsrDFAIE3spqf4Nc', 'etag': '\"MTQxNTczMDgxMzAwMA\"', 'selfLink': 'https://www.googleapis.com/drive/v2/files/1HhJ5U728hGL5BXY_vsrDFAIE3spqf4Nc', 'webContentLink': 'https://drive.google.com/uc?id=1HhJ5U728hGL5BXY_vsrDFAIE3spqf4Nc&export=download', 'alternateLink': 'https://drive.google.com/file/d/1HhJ5U728hGL5BXY_vsrDFAIE3spqf4Nc/view?usp=drivesdk', 'embedLink': 'https://drive.google.com/file/d/1HhJ5U728hGL5BXY_vsrDFAIE3spqf4Nc/preview?usp=drivesdk', 'iconLink': 'https://drive-thirdparty.googleusercontent.com/16/type/text/plain', 'thumbnailLink': 'https://lh3.googleusercontent.com/Rg4C6Cl5GBeVHf_hSruGLMPWJxcMyTdWA-EZ19FBfXLXi31fqlXt7ObQvBQxlkwMwT9IiDtqqyc=s220', 'title': '5_9_all_rank_conjunction.txt', 'mimeType': 'text/plain', 'labels': {'starred': False, 'hidden': False, 'trashed': False, 'restricted': False, 'viewed': True}, 'copyRequiresWriterPermission': False, 'createdDate': '2020-07-02T02:57:22.428Z', 'modifiedDate': '2014-11-11T18:33:33.000Z', 'modifiedByMeDate': '2014-11-11T18:33:33.000Z', 'lastViewedByMeDate': '2020-07-02T02:57:22.428Z', 'markedViewedByMeDate': '1970-01-01T00:00:00.000Z', 'version': '2', 'parents': [{'kind': 'drive#parentReference', 'id': '1RjAnTdnkTpBqAFx69YDNQLF3RWt-4S6D', 'selfLink': 'https://www.googleapis.com/drive/v2/files/1HhJ5U728hGL5BXY_vsrDFAIE3spqf4Nc/parents/1RjAnTdnkTpBqAFx69YDNQLF3RWt-4S6D', 'parentLink': 'https://www.googleapis.com/drive/v2/files/1RjAnTdnkTpBqAFx69YDNQLF3RWt-4S6D', 'isRoot': False}], 'downloadUrl': 'https://www.googleapis.com/drive/v2/files/1HhJ5U728hGL5BXY_vsrDFAIE3spqf4Nc?alt=media&source=downloadUrl', 'userPermission': {'kind': 'drive#permission', 'etag': '\"C_ELUFUNJJgRVt6ifbls0qPu9a8\"', 'id': 'me', 'selfLink': 'https://www.googleapis.com/drive/v2/files/1HhJ5U728hGL5BXY_vsrDFAIE3spqf4Nc/permissions/me', 'role': 'owner', 'type': 'user'}, 'originalFilename': '5_9_all_rank_conjunction.txt', 'fileExtension': 'txt', 'md5Checksum': '752baf3dfe2c800f628c7eb99fc1272c', 'fileSize': '600', 'quotaBytesUsed': '600', 'ownerNames': ['Juan K'], 'owners': [{'kind': 'drive#user', 'displayName': 'Juan K', 'picture': {'url': 'https://lh3.googleusercontent.com/a-/AOh14GjnQxFtP80s69qD0gkERyTP94Jmc0Xy0NkaWOoI=s64'}, 'isAuthenticatedUser': True, 'permissionId': '09966068270383507102', 'emailAddress': 'jkamienk@gmail.com'}], 'lastModifyingUserName': 'Juan K', 'lastModifyingUser': {'kind': 'drive#user', 'displayName': 'Juan K', 'picture': {'url': 'https://lh3.googleusercontent.com/a-/AOh14GjnQxFtP80s69qD0gkERyTP94Jmc0Xy0NkaWOoI=s64'}, 'isAuthenticatedUser': True, 'permissionId': '09966068270383507102', 'emailAddress': 'jkamienk@gmail.com'}, 'capabilities': {'canCopy': True, 'canEdit': True}, 'editable': True, 'copyable': True, 'writersCanShare': True, 'shared': True, 'explicitlyTrashed': False, 'appDataContents': False, 'headRevisionId': '0B8JUdC6yu7VDcmMrbzRkYjJubXBpLzQ4VmdzTzBGeDU4UjQ0PQ', 'spaces': ['drive']}),\n",
              " GoogleDriveFile({'kind': 'drive#file', 'id': '1620th2NFgSFZstrFAEo_60iuQ-h9ZGzW', 'etag': '\"MTQxNTczMDgxMzAwMA\"', 'selfLink': 'https://www.googleapis.com/drive/v2/files/1620th2NFgSFZstrFAEo_60iuQ-h9ZGzW', 'webContentLink': 'https://drive.google.com/uc?id=1620th2NFgSFZstrFAEo_60iuQ-h9ZGzW&export=download', 'alternateLink': 'https://drive.google.com/file/d/1620th2NFgSFZstrFAEo_60iuQ-h9ZGzW/view?usp=drivesdk', 'embedLink': 'https://drive.google.com/file/d/1620th2NFgSFZstrFAEo_60iuQ-h9ZGzW/preview?usp=drivesdk', 'iconLink': 'https://drive-thirdparty.googleusercontent.com/16/type/text/plain', 'thumbnailLink': 'https://lh3.googleusercontent.com/2jPIS9cHvqNNRSU_St04JM5O7sl0WlEjXonYSzVG1KBeM5-TFdZJ9OybX80B3a_r8Cw95-dfVsM=s220', 'title': '5_8_all_rank_preposition.txt', 'mimeType': 'text/plain', 'labels': {'starred': False, 'hidden': False, 'trashed': False, 'restricted': False, 'viewed': True}, 'copyRequiresWriterPermission': False, 'createdDate': '2020-07-02T02:57:22.428Z', 'modifiedDate': '2014-11-11T18:33:33.000Z', 'modifiedByMeDate': '2014-11-11T18:33:33.000Z', 'lastViewedByMeDate': '2020-07-02T02:57:22.428Z', 'markedViewedByMeDate': '1970-01-01T00:00:00.000Z', 'version': '2', 'parents': [{'kind': 'drive#parentReference', 'id': '1RjAnTdnkTpBqAFx69YDNQLF3RWt-4S6D', 'selfLink': 'https://www.googleapis.com/drive/v2/files/1620th2NFgSFZstrFAEo_60iuQ-h9ZGzW/parents/1RjAnTdnkTpBqAFx69YDNQLF3RWt-4S6D', 'parentLink': 'https://www.googleapis.com/drive/v2/files/1RjAnTdnkTpBqAFx69YDNQLF3RWt-4S6D', 'isRoot': False}], 'downloadUrl': 'https://www.googleapis.com/drive/v2/files/1620th2NFgSFZstrFAEo_60iuQ-h9ZGzW?alt=media&source=downloadUrl', 'userPermission': {'kind': 'drive#permission', 'etag': '\"2mR5ejK7EoK7EMGtOukakZGSoEo\"', 'id': 'me', 'selfLink': 'https://www.googleapis.com/drive/v2/files/1620th2NFgSFZstrFAEo_60iuQ-h9ZGzW/permissions/me', 'role': 'owner', 'type': 'user'}, 'originalFilename': '5_8_all_rank_preposition.txt', 'fileExtension': 'txt', 'md5Checksum': '8a11fc9e1c83caaea4125eb5b5189739', 'fileSize': '1600', 'quotaBytesUsed': '1600', 'ownerNames': ['Juan K'], 'owners': [{'kind': 'drive#user', 'displayName': 'Juan K', 'picture': {'url': 'https://lh3.googleusercontent.com/a-/AOh14GjnQxFtP80s69qD0gkERyTP94Jmc0Xy0NkaWOoI=s64'}, 'isAuthenticatedUser': True, 'permissionId': '09966068270383507102', 'emailAddress': 'jkamienk@gmail.com'}], 'lastModifyingUserName': 'Juan K', 'lastModifyingUser': {'kind': 'drive#user', 'displayName': 'Juan K', 'picture': {'url': 'https://lh3.googleusercontent.com/a-/AOh14GjnQxFtP80s69qD0gkERyTP94Jmc0Xy0NkaWOoI=s64'}, 'isAuthenticatedUser': True, 'permissionId': '09966068270383507102', 'emailAddress': 'jkamienk@gmail.com'}, 'capabilities': {'canCopy': True, 'canEdit': True}, 'editable': True, 'copyable': True, 'writersCanShare': True, 'shared': True, 'explicitlyTrashed': False, 'appDataContents': False, 'headRevisionId': '0B8JUdC6yu7VDMDN4RDY4U0pnVkRGRzN1MXZZQ2Y4R0ZuTWRRPQ', 'spaces': ['drive']}),\n",
              " GoogleDriveFile({'kind': 'drive#file', 'id': '1xk_SmX1v0sIZxhRp3tOGXg_wkf1zQfOJ', 'etag': '\"MTQxNTczMDgxMzAwMA\"', 'selfLink': 'https://www.googleapis.com/drive/v2/files/1xk_SmX1v0sIZxhRp3tOGXg_wkf1zQfOJ', 'webContentLink': 'https://drive.google.com/uc?id=1xk_SmX1v0sIZxhRp3tOGXg_wkf1zQfOJ&export=download', 'alternateLink': 'https://drive.google.com/file/d/1xk_SmX1v0sIZxhRp3tOGXg_wkf1zQfOJ/view?usp=drivesdk', 'embedLink': 'https://drive.google.com/file/d/1xk_SmX1v0sIZxhRp3tOGXg_wkf1zQfOJ/preview?usp=drivesdk', 'iconLink': 'https://drive-thirdparty.googleusercontent.com/16/type/text/plain', 'thumbnailLink': 'https://lh3.googleusercontent.com/_WB1PaVhMWe6sjnT75N-04AmZIaYonWEwatRbbPRI1UoZeRTRhdKcFhHLVHIv_y5Ez4hPzG8qUU=s220', 'title': '5_5_all_rank_pron.txt', 'mimeType': 'text/plain', 'labels': {'starred': False, 'hidden': False, 'trashed': False, 'restricted': False, 'viewed': True}, 'copyRequiresWriterPermission': False, 'createdDate': '2020-07-02T02:57:22.428Z', 'modifiedDate': '2014-11-11T18:33:33.000Z', 'modifiedByMeDate': '2014-11-11T18:33:33.000Z', 'lastViewedByMeDate': '2020-07-02T02:57:22.428Z', 'markedViewedByMeDate': '1970-01-01T00:00:00.000Z', 'version': '2', 'parents': [{'kind': 'drive#parentReference', 'id': '1RjAnTdnkTpBqAFx69YDNQLF3RWt-4S6D', 'selfLink': 'https://www.googleapis.com/drive/v2/files/1xk_SmX1v0sIZxhRp3tOGXg_wkf1zQfOJ/parents/1RjAnTdnkTpBqAFx69YDNQLF3RWt-4S6D', 'parentLink': 'https://www.googleapis.com/drive/v2/files/1RjAnTdnkTpBqAFx69YDNQLF3RWt-4S6D', 'isRoot': False}], 'downloadUrl': 'https://www.googleapis.com/drive/v2/files/1xk_SmX1v0sIZxhRp3tOGXg_wkf1zQfOJ?alt=media&source=downloadUrl', 'userPermission': {'kind': 'drive#permission', 'etag': '\"f8dpddLwLU-BNa7jSNe7jDgDAwM\"', 'id': 'me', 'selfLink': 'https://www.googleapis.com/drive/v2/files/1xk_SmX1v0sIZxhRp3tOGXg_wkf1zQfOJ/permissions/me', 'role': 'owner', 'type': 'user'}, 'originalFilename': '5_5_all_rank_pron.txt', 'fileExtension': 'txt', 'md5Checksum': '9a1429b006a7c4295632158816b65fa0', 'fileSize': '558', 'quotaBytesUsed': '558', 'ownerNames': ['Juan K'], 'owners': [{'kind': 'drive#user', 'displayName': 'Juan K', 'picture': {'url': 'https://lh3.googleusercontent.com/a-/AOh14GjnQxFtP80s69qD0gkERyTP94Jmc0Xy0NkaWOoI=s64'}, 'isAuthenticatedUser': True, 'permissionId': '09966068270383507102', 'emailAddress': 'jkamienk@gmail.com'}], 'lastModifyingUserName': 'Juan K', 'lastModifyingUser': {'kind': 'drive#user', 'displayName': 'Juan K', 'picture': {'url': 'https://lh3.googleusercontent.com/a-/AOh14GjnQxFtP80s69qD0gkERyTP94Jmc0Xy0NkaWOoI=s64'}, 'isAuthenticatedUser': True, 'permissionId': '09966068270383507102', 'emailAddress': 'jkamienk@gmail.com'}, 'capabilities': {'canCopy': True, 'canEdit': True}, 'editable': True, 'copyable': True, 'writersCanShare': True, 'shared': True, 'explicitlyTrashed': False, 'appDataContents': False, 'headRevisionId': '0B8JUdC6yu7VDeWRQemRXU29JeFVZVzc4Q2M3WUEvN2pHbWNzPQ', 'spaces': ['drive']})]"
            ]
          },
          "metadata": {
            "tags": []
          },
          "execution_count": 6
        }
      ]
    },
    {
      "cell_type": "code",
      "metadata": {
        "id": "i6NgaJ8bfxSZ",
        "colab_type": "code",
        "colab": {
          "base_uri": "https://localhost:8080/",
          "height": 363
        },
        "outputId": "c3412c1c-ab66-4663-d7f3-054355e1d04f"
      },
      "source": [
        "# Cargo todos\n",
        "downloaded = drive.CreateFile({'id':file_list[0]['id']}) \n",
        "downloaded.GetContentFile(file_list[0]['title'])  \n",
        "df = pd.read_csv(file_list[0]['title'], sep='\\t', header=None)\n",
        "for f in file_list[1:]:\n",
        "  downloaded = drive.CreateFile({'id':f['id']}) \n",
        "  downloaded.GetContentFile(f['title'])  \n",
        "  df1 = pd.read_csv(f['title'], sep='\\t', header=None)\n",
        "  df = pd.concat([df, df1])\n",
        "  print('%s: size = %d, tot=%d'%(f['title'],df1.shape[0],df.shape[0]))\n",
        "df.head()"
      ],
      "execution_count": null,
      "outputs": [
        {
          "output_type": "stream",
          "text": [
            "5_4_all_rank_adverb.txt: size = 429, tot=461\n",
            "5_6_all_rank_determ.txt: size = 13, tot=474\n",
            "5_3_all_rank_adjective.txt: size = 1035, tot=1509\n",
            "5_10_all_rank_interjection.txt: size = 18, tot=1527\n",
            "5_1_all_rank_noun.txt: size = 3030, tot=4557\n",
            "5_2_all_rank_verb.txt: size = 1112, tot=5669\n",
            "5_9_all_rank_conjunction.txt: size = 50, tot=5719\n",
            "5_8_all_rank_preposition.txt: size = 122, tot=5841\n",
            "5_5_all_rank_pron.txt: size = 50, tot=5891\n"
          ],
          "name": "stdout"
        },
        {
          "output_type": "execute_result",
          "data": {
            "text/html": [
              "<div>\n",
              "<style scoped>\n",
              "    .dataframe tbody tr th:only-of-type {\n",
              "        vertical-align: middle;\n",
              "    }\n",
              "\n",
              "    .dataframe tbody tr th {\n",
              "        vertical-align: top;\n",
              "    }\n",
              "\n",
              "    .dataframe thead th {\n",
              "        text-align: right;\n",
              "    }\n",
              "</style>\n",
              "<table border=\"1\" class=\"dataframe\">\n",
              "  <thead>\n",
              "    <tr style=\"text-align: right;\">\n",
              "      <th></th>\n",
              "      <th>0</th>\n",
              "      <th>1</th>\n",
              "      <th>2</th>\n",
              "    </tr>\n",
              "  </thead>\n",
              "  <tbody>\n",
              "    <tr>\n",
              "      <th>0</th>\n",
              "      <td>NaN</td>\n",
              "      <td>this</td>\n",
              "      <td>4623</td>\n",
              "    </tr>\n",
              "    <tr>\n",
              "      <th>1</th>\n",
              "      <td>NaN</td>\n",
              "      <td>that</td>\n",
              "      <td>3792</td>\n",
              "    </tr>\n",
              "    <tr>\n",
              "      <th>2</th>\n",
              "      <td>NaN</td>\n",
              "      <td>which</td>\n",
              "      <td>3719</td>\n",
              "    </tr>\n",
              "    <tr>\n",
              "      <th>3</th>\n",
              "      <td>NaN</td>\n",
              "      <td>what</td>\n",
              "      <td>2493</td>\n",
              "    </tr>\n",
              "    <tr>\n",
              "      <th>4</th>\n",
              "      <td>NaN</td>\n",
              "      <td>all</td>\n",
              "      <td>2436</td>\n",
              "    </tr>\n",
              "  </tbody>\n",
              "</table>\n",
              "</div>"
            ],
            "text/plain": [
              "    0      1     2\n",
              "0 NaN   this  4623\n",
              "1 NaN   that  3792\n",
              "2 NaN  which  3719\n",
              "3 NaN   what  2493\n",
              "4 NaN    all  2436"
            ]
          },
          "metadata": {
            "tags": []
          },
          "execution_count": 7
        }
      ]
    },
    {
      "cell_type": "code",
      "metadata": {
        "id": "1AA09i4zfwQ9",
        "colab_type": "code",
        "colab": {
          "base_uri": "https://localhost:8080/",
          "height": 363
        },
        "outputId": "d88b8f29-90d1-4a52-b46d-70fbfa4dee34"
      },
      "source": [
        "df.head(10)"
      ],
      "execution_count": null,
      "outputs": [
        {
          "output_type": "execute_result",
          "data": {
            "text/html": [
              "<div>\n",
              "<style scoped>\n",
              "    .dataframe tbody tr th:only-of-type {\n",
              "        vertical-align: middle;\n",
              "    }\n",
              "\n",
              "    .dataframe tbody tr th {\n",
              "        vertical-align: top;\n",
              "    }\n",
              "\n",
              "    .dataframe thead th {\n",
              "        text-align: right;\n",
              "    }\n",
              "</style>\n",
              "<table border=\"1\" class=\"dataframe\">\n",
              "  <thead>\n",
              "    <tr style=\"text-align: right;\">\n",
              "      <th></th>\n",
              "      <th>0</th>\n",
              "      <th>1</th>\n",
              "      <th>2</th>\n",
              "    </tr>\n",
              "  </thead>\n",
              "  <tbody>\n",
              "    <tr>\n",
              "      <th>0</th>\n",
              "      <td>NaN</td>\n",
              "      <td>this</td>\n",
              "      <td>4623</td>\n",
              "    </tr>\n",
              "    <tr>\n",
              "      <th>1</th>\n",
              "      <td>NaN</td>\n",
              "      <td>that</td>\n",
              "      <td>3792</td>\n",
              "    </tr>\n",
              "    <tr>\n",
              "      <th>2</th>\n",
              "      <td>NaN</td>\n",
              "      <td>which</td>\n",
              "      <td>3719</td>\n",
              "    </tr>\n",
              "    <tr>\n",
              "      <th>3</th>\n",
              "      <td>NaN</td>\n",
              "      <td>what</td>\n",
              "      <td>2493</td>\n",
              "    </tr>\n",
              "    <tr>\n",
              "      <th>4</th>\n",
              "      <td>NaN</td>\n",
              "      <td>all</td>\n",
              "      <td>2436</td>\n",
              "    </tr>\n",
              "    <tr>\n",
              "      <th>5</th>\n",
              "      <td>NaN</td>\n",
              "      <td>some</td>\n",
              "      <td>1712</td>\n",
              "    </tr>\n",
              "    <tr>\n",
              "      <th>6</th>\n",
              "      <td>NaN</td>\n",
              "      <td>these</td>\n",
              "      <td>1254</td>\n",
              "    </tr>\n",
              "    <tr>\n",
              "      <th>7</th>\n",
              "      <td>NaN</td>\n",
              "      <td>any</td>\n",
              "      <td>1220</td>\n",
              "    </tr>\n",
              "    <tr>\n",
              "      <th>8</th>\n",
              "      <td>NaN</td>\n",
              "      <td>many</td>\n",
              "      <td>902</td>\n",
              "    </tr>\n",
              "    <tr>\n",
              "      <th>9</th>\n",
              "      <td>NaN</td>\n",
              "      <td>those</td>\n",
              "      <td>888</td>\n",
              "    </tr>\n",
              "  </tbody>\n",
              "</table>\n",
              "</div>"
            ],
            "text/plain": [
              "    0      1     2\n",
              "0 NaN   this  4623\n",
              "1 NaN   that  3792\n",
              "2 NaN  which  3719\n",
              "3 NaN   what  2493\n",
              "4 NaN    all  2436\n",
              "5 NaN   some  1712\n",
              "6 NaN  these  1254\n",
              "7 NaN    any  1220\n",
              "8 NaN   many   902\n",
              "9 NaN  those   888"
            ]
          },
          "metadata": {
            "tags": []
          },
          "execution_count": 8
        }
      ]
    },
    {
      "cell_type": "markdown",
      "metadata": {
        "id": "r5Zk8LFeVhNQ",
        "colab_type": "text"
      },
      "source": [
        "# Darle el formato que quiero a los datos"
      ]
    },
    {
      "cell_type": "code",
      "metadata": {
        "id": "vpcSgRAP2B5Y",
        "colab_type": "code",
        "colab": {
          "base_uri": "https://localhost:8080/",
          "height": 206
        },
        "outputId": "9d2cfe28-6cea-4d8d-be79-e7f1f0783abd"
      },
      "source": [
        "# Remove first column\n",
        "df = df.drop(0,axis=1)\n",
        "df.head()"
      ],
      "execution_count": null,
      "outputs": [
        {
          "output_type": "execute_result",
          "data": {
            "text/html": [
              "<div>\n",
              "<style scoped>\n",
              "    .dataframe tbody tr th:only-of-type {\n",
              "        vertical-align: middle;\n",
              "    }\n",
              "\n",
              "    .dataframe tbody tr th {\n",
              "        vertical-align: top;\n",
              "    }\n",
              "\n",
              "    .dataframe thead th {\n",
              "        text-align: right;\n",
              "    }\n",
              "</style>\n",
              "<table border=\"1\" class=\"dataframe\">\n",
              "  <thead>\n",
              "    <tr style=\"text-align: right;\">\n",
              "      <th></th>\n",
              "      <th>1</th>\n",
              "      <th>2</th>\n",
              "    </tr>\n",
              "  </thead>\n",
              "  <tbody>\n",
              "    <tr>\n",
              "      <th>0</th>\n",
              "      <td>this</td>\n",
              "      <td>4623</td>\n",
              "    </tr>\n",
              "    <tr>\n",
              "      <th>1</th>\n",
              "      <td>that</td>\n",
              "      <td>3792</td>\n",
              "    </tr>\n",
              "    <tr>\n",
              "      <th>2</th>\n",
              "      <td>which</td>\n",
              "      <td>3719</td>\n",
              "    </tr>\n",
              "    <tr>\n",
              "      <th>3</th>\n",
              "      <td>what</td>\n",
              "      <td>2493</td>\n",
              "    </tr>\n",
              "    <tr>\n",
              "      <th>4</th>\n",
              "      <td>all</td>\n",
              "      <td>2436</td>\n",
              "    </tr>\n",
              "  </tbody>\n",
              "</table>\n",
              "</div>"
            ],
            "text/plain": [
              "       1     2\n",
              "0   this  4623\n",
              "1   that  3792\n",
              "2  which  3719\n",
              "3   what  2493\n",
              "4    all  2436"
            ]
          },
          "metadata": {
            "tags": []
          },
          "execution_count": 8
        }
      ]
    },
    {
      "cell_type": "code",
      "metadata": {
        "id": "ZbsDOKDH22QG",
        "colab_type": "code",
        "colab": {}
      },
      "source": [
        ""
      ],
      "execution_count": null,
      "outputs": []
    },
    {
      "cell_type": "code",
      "metadata": {
        "id": "cD1sXq-PPtZv",
        "colab_type": "code",
        "colab": {
          "base_uri": "https://localhost:8080/",
          "height": 206
        },
        "outputId": "99b9df5d-2617-483d-da64-05bfdadc05ae"
      },
      "source": [
        "# Change column names\n",
        "df.columns = [\"Word\",\"Frequency\"]\n",
        "df.head()"
      ],
      "execution_count": null,
      "outputs": [
        {
          "output_type": "execute_result",
          "data": {
            "text/html": [
              "<div>\n",
              "<style scoped>\n",
              "    .dataframe tbody tr th:only-of-type {\n",
              "        vertical-align: middle;\n",
              "    }\n",
              "\n",
              "    .dataframe tbody tr th {\n",
              "        vertical-align: top;\n",
              "    }\n",
              "\n",
              "    .dataframe thead th {\n",
              "        text-align: right;\n",
              "    }\n",
              "</style>\n",
              "<table border=\"1\" class=\"dataframe\">\n",
              "  <thead>\n",
              "    <tr style=\"text-align: right;\">\n",
              "      <th></th>\n",
              "      <th>Word</th>\n",
              "      <th>Frequency</th>\n",
              "    </tr>\n",
              "  </thead>\n",
              "  <tbody>\n",
              "    <tr>\n",
              "      <th>0</th>\n",
              "      <td>this</td>\n",
              "      <td>4623</td>\n",
              "    </tr>\n",
              "    <tr>\n",
              "      <th>1</th>\n",
              "      <td>that</td>\n",
              "      <td>3792</td>\n",
              "    </tr>\n",
              "    <tr>\n",
              "      <th>2</th>\n",
              "      <td>which</td>\n",
              "      <td>3719</td>\n",
              "    </tr>\n",
              "    <tr>\n",
              "      <th>3</th>\n",
              "      <td>what</td>\n",
              "      <td>2493</td>\n",
              "    </tr>\n",
              "    <tr>\n",
              "      <th>4</th>\n",
              "      <td>all</td>\n",
              "      <td>2436</td>\n",
              "    </tr>\n",
              "  </tbody>\n",
              "</table>\n",
              "</div>"
            ],
            "text/plain": [
              "    Word  Frequency\n",
              "0   this       4623\n",
              "1   that       3792\n",
              "2  which       3719\n",
              "3   what       2493\n",
              "4    all       2436"
            ]
          },
          "metadata": {
            "tags": []
          },
          "execution_count": 9
        }
      ]
    },
    {
      "cell_type": "code",
      "metadata": {
        "id": "gINEXQReR11I",
        "colab_type": "code",
        "colab": {
          "base_uri": "https://localhost:8080/",
          "height": 677
        },
        "outputId": "e0000f25-4338-462b-d2f6-ddc4a8392e6e"
      },
      "source": [
        "# Sort columns by Frequency\n",
        "df = df.sort_values(by ='Frequency',ascending=False)\n",
        "df.head(20)"
      ],
      "execution_count": null,
      "outputs": [
        {
          "output_type": "execute_result",
          "data": {
            "text/html": [
              "<div>\n",
              "<style scoped>\n",
              "    .dataframe tbody tr th:only-of-type {\n",
              "        vertical-align: middle;\n",
              "    }\n",
              "\n",
              "    .dataframe tbody tr th {\n",
              "        vertical-align: top;\n",
              "    }\n",
              "\n",
              "    .dataframe thead th {\n",
              "        text-align: right;\n",
              "    }\n",
              "</style>\n",
              "<table border=\"1\" class=\"dataframe\">\n",
              "  <thead>\n",
              "    <tr style=\"text-align: right;\">\n",
              "      <th></th>\n",
              "      <th>Word</th>\n",
              "      <th>Frequency</th>\n",
              "    </tr>\n",
              "  </thead>\n",
              "  <tbody>\n",
              "    <tr>\n",
              "      <th>0</th>\n",
              "      <td>the</td>\n",
              "      <td>61847</td>\n",
              "    </tr>\n",
              "    <tr>\n",
              "      <th>0</th>\n",
              "      <td>be</td>\n",
              "      <td>42277</td>\n",
              "    </tr>\n",
              "    <tr>\n",
              "      <th>0</th>\n",
              "      <td>of</td>\n",
              "      <td>29391</td>\n",
              "    </tr>\n",
              "    <tr>\n",
              "      <th>0</th>\n",
              "      <td>and</td>\n",
              "      <td>26817</td>\n",
              "    </tr>\n",
              "    <tr>\n",
              "      <th>1</th>\n",
              "      <td>a</td>\n",
              "      <td>21626</td>\n",
              "    </tr>\n",
              "    <tr>\n",
              "      <th>1</th>\n",
              "      <td>in</td>\n",
              "      <td>18214</td>\n",
              "    </tr>\n",
              "    <tr>\n",
              "      <th>1</th>\n",
              "      <td>have</td>\n",
              "      <td>13655</td>\n",
              "    </tr>\n",
              "    <tr>\n",
              "      <th>0</th>\n",
              "      <td>it</td>\n",
              "      <td>10875</td>\n",
              "    </tr>\n",
              "    <tr>\n",
              "      <th>2</th>\n",
              "      <td>to</td>\n",
              "      <td>9343</td>\n",
              "    </tr>\n",
              "    <tr>\n",
              "      <th>1</th>\n",
              "      <td>i</td>\n",
              "      <td>8875</td>\n",
              "    </tr>\n",
              "    <tr>\n",
              "      <th>3</th>\n",
              "      <td>for</td>\n",
              "      <td>8412</td>\n",
              "    </tr>\n",
              "    <tr>\n",
              "      <th>1</th>\n",
              "      <td>that</td>\n",
              "      <td>7308</td>\n",
              "    </tr>\n",
              "    <tr>\n",
              "      <th>2</th>\n",
              "      <td>you</td>\n",
              "      <td>6954</td>\n",
              "    </tr>\n",
              "    <tr>\n",
              "      <th>3</th>\n",
              "      <td>he</td>\n",
              "      <td>6810</td>\n",
              "    </tr>\n",
              "    <tr>\n",
              "      <th>4</th>\n",
              "      <td>with</td>\n",
              "      <td>6575</td>\n",
              "    </tr>\n",
              "    <tr>\n",
              "      <th>5</th>\n",
              "      <td>on</td>\n",
              "      <td>6475</td>\n",
              "    </tr>\n",
              "    <tr>\n",
              "      <th>2</th>\n",
              "      <td>do</td>\n",
              "      <td>5594</td>\n",
              "    </tr>\n",
              "    <tr>\n",
              "      <th>6</th>\n",
              "      <td>by</td>\n",
              "      <td>5096</td>\n",
              "    </tr>\n",
              "    <tr>\n",
              "      <th>7</th>\n",
              "      <td>at</td>\n",
              "      <td>4790</td>\n",
              "    </tr>\n",
              "    <tr>\n",
              "      <th>0</th>\n",
              "      <td>this</td>\n",
              "      <td>4623</td>\n",
              "    </tr>\n",
              "  </tbody>\n",
              "</table>\n",
              "</div>"
            ],
            "text/plain": [
              "   Word  Frequency\n",
              "0   the      61847\n",
              "0    be      42277\n",
              "0    of      29391\n",
              "0   and      26817\n",
              "1     a      21626\n",
              "1    in      18214\n",
              "1  have      13655\n",
              "0    it      10875\n",
              "2    to       9343\n",
              "1     i       8875\n",
              "3   for       8412\n",
              "1  that       7308\n",
              "2   you       6954\n",
              "3    he       6810\n",
              "4  with       6575\n",
              "5    on       6475\n",
              "2    do       5594\n",
              "6    by       5096\n",
              "7    at       4790\n",
              "0  this       4623"
            ]
          },
          "metadata": {
            "tags": []
          },
          "execution_count": 10
        }
      ]
    },
    {
      "cell_type": "code",
      "metadata": {
        "id": "hFH5ojwpStIG",
        "colab_type": "code",
        "colab": {
          "base_uri": "https://localhost:8080/",
          "height": 206
        },
        "outputId": "ba96479f-37c6-463b-8a42-5ea80b7922be"
      },
      "source": [
        "df['Rank'] = np.arange(len(df.index))\n",
        "df.head()"
      ],
      "execution_count": null,
      "outputs": [
        {
          "output_type": "execute_result",
          "data": {
            "text/html": [
              "<div>\n",
              "<style scoped>\n",
              "    .dataframe tbody tr th:only-of-type {\n",
              "        vertical-align: middle;\n",
              "    }\n",
              "\n",
              "    .dataframe tbody tr th {\n",
              "        vertical-align: top;\n",
              "    }\n",
              "\n",
              "    .dataframe thead th {\n",
              "        text-align: right;\n",
              "    }\n",
              "</style>\n",
              "<table border=\"1\" class=\"dataframe\">\n",
              "  <thead>\n",
              "    <tr style=\"text-align: right;\">\n",
              "      <th></th>\n",
              "      <th>Word</th>\n",
              "      <th>Frequency</th>\n",
              "      <th>Rank</th>\n",
              "    </tr>\n",
              "  </thead>\n",
              "  <tbody>\n",
              "    <tr>\n",
              "      <th>0</th>\n",
              "      <td>the</td>\n",
              "      <td>61847</td>\n",
              "      <td>0</td>\n",
              "    </tr>\n",
              "    <tr>\n",
              "      <th>0</th>\n",
              "      <td>be</td>\n",
              "      <td>42277</td>\n",
              "      <td>1</td>\n",
              "    </tr>\n",
              "    <tr>\n",
              "      <th>0</th>\n",
              "      <td>of</td>\n",
              "      <td>29391</td>\n",
              "      <td>2</td>\n",
              "    </tr>\n",
              "    <tr>\n",
              "      <th>0</th>\n",
              "      <td>and</td>\n",
              "      <td>26817</td>\n",
              "      <td>3</td>\n",
              "    </tr>\n",
              "    <tr>\n",
              "      <th>1</th>\n",
              "      <td>a</td>\n",
              "      <td>21626</td>\n",
              "      <td>4</td>\n",
              "    </tr>\n",
              "  </tbody>\n",
              "</table>\n",
              "</div>"
            ],
            "text/plain": [
              "  Word  Frequency  Rank\n",
              "0  the      61847     0\n",
              "0   be      42277     1\n",
              "0   of      29391     2\n",
              "0  and      26817     3\n",
              "1    a      21626     4"
            ]
          },
          "metadata": {
            "tags": []
          },
          "execution_count": 11
        }
      ]
    },
    {
      "cell_type": "code",
      "metadata": {
        "id": "0WomIeTITW33",
        "colab_type": "code",
        "colab": {
          "base_uri": "https://localhost:8080/",
          "height": 330
        },
        "outputId": "f306bb5a-5e63-4b82-d388-253b0926b542"
      },
      "source": [
        "r = df['Rank'].to_numpy()\n",
        "f = df['Frequency'].to_numpy()\n",
        "\n",
        "plt.plot(np.log10(f), np.log10(r))\n",
        "plt.xlabel('log10(Frecuencias)')\n",
        "plt.ylabel('log10(Rankings)')\n",
        "#plt.plot(f, r)\n",
        "#plt.xlabel('Frecuencias')\n",
        "#plt.ylabel('Rankings')\n",
        "plt.title('Ley de Zipf para palabras')\n",
        "plt.show()"
      ],
      "execution_count": null,
      "outputs": [
        {
          "output_type": "stream",
          "text": [
            "/usr/local/lib/python3.6/dist-packages/ipykernel_launcher.py:4: RuntimeWarning: divide by zero encountered in log10\n",
            "  after removing the cwd from sys.path.\n"
          ],
          "name": "stderr"
        },
        {
          "output_type": "display_data",
          "data": {
            "image/png": "[encoded data removed]",
            "text/plain": [
              "<Figure size 432x288 with 1 Axes>"
            ]
          },
          "metadata": {
            "tags": [],
            "needs_background": "light"
          }
        }
      ]
    },
    {
      "cell_type": "code",
      "metadata": {
        "id": "ABgstS2L4Us4",
        "colab_type": "code",
        "colab": {}
      },
      "source": [
        ""
      ],
      "execution_count": null,
      "outputs": []
    }
  ]
}