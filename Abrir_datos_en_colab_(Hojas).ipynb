{
  "nbformat": 4,
  "nbformat_minor": 0,
  "metadata": {
    "colab": {
      "name": "Abrir_datos_en_colab (Hojas).ipynb",
      "provenance": [],
      "collapsed_sections": [],
      "toc_visible": true,
      "include_colab_link": true
    },
    "kernelspec": {
      "name": "python3",
      "display_name": "Python 3"
    }
  },
  "cells": [
    {
      "cell_type": "markdown",
      "metadata": {
        "id": "view-in-github",
        "colab_type": "text"
      },
      "source": [
        "<a href=\"https://colab.research.google.com/github/tincho-mehaudy/DMCyT/blob/master/Abrir_datos_en_colab_(Hojas).ipynb\" target=\"_parent\"><img src=\"https://colab.research.google.com/assets/colab-badge.svg\" alt=\"Open In Colab\"/></a>"
      ]
    },
    {
      "cell_type": "markdown",
      "metadata": {
        "id": "pgNiKZYmKIrz",
        "colab_type": "text"
      },
      "source": [
        "# Referencias:\n",
        "\n",
        "https://towardsdatascience.com/3-ways-to-load-csv-files-into-colab-7c14fcbdcb92\n",
        "\n",
        "https://colab.research.google.com/notebooks/io.ipynb#scrollTo=vz-jH8T_Uk2c"
      ]
    },
    {
      "cell_type": "code",
      "metadata": {
        "id": "ynWCKrFYi81s",
        "colab_type": "code",
        "colab": {}
      },
      "source": [
        "import pandas as pd\n",
        "import numpy as np\n",
        "import matplotlib.pyplot as plt"
      ],
      "execution_count": null,
      "outputs": []
    },
    {
      "cell_type": "markdown",
      "metadata": {
        "id": "JcKqiHVwVV3T",
        "colab_type": "text"
      },
      "source": [
        "# Cargar los datos desde la computadora"
      ]
    },
    {
      "cell_type": "code",
      "metadata": {
        "id": "fiGyLW_6KBxF",
        "colab_type": "code",
        "colab": {
          "resources": {
            "http://localhost:8080/nbextensions/google.colab/files.js": {
              "data": "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",
              "ok": true,
              "headers": [
                [
                  "content-type",
                  "application/javascript"
                ]
              ],
              "status": 200,
              "status_text": ""
            }
          },
          "base_uri": "https://localhost:8080/",
          "height": 91
        },
        "outputId": "0ef3c420-19eb-4363-f572-0f0558ed601b"
      },
      "source": [
        "from google.colab import files\n",
        "import io\n",
        "\n",
        "uploaded = files.upload()\n",
        "\n",
        "for fn in uploaded.keys():\n",
        "  print('User uploaded file \"{name}\" with length {length} bytes'.format(name=fn, length=len(uploaded[fn])))"
      ],
      "execution_count": null,
      "outputs": [
        {
          "output_type": "display_data",
          "data": {
            "text/html": [
              "\n",
              "     <input type=\"file\" id=\"files-7f66dbdb-ad28-4053-935c-d2d6a78715bf\" name=\"files[]\" multiple disabled\n",
              "        style=\"border:none\" />\n",
              "     <output id=\"result-7f66dbdb-ad28-4053-935c-d2d6a78715bf\">\n",
              "      Upload widget is only available when the cell has been executed in the\n",
              "      current browser session. Please rerun this cell to enable.\n",
              "      </output>\n",
              "      <script src=\"/nbextensions/google.colab/files.js\"></script> "
            ],
            "text/plain": [
              "<IPython.core.display.HTML object>"
            ]
          },
          "metadata": {
            "tags": []
          }
        },
        {
          "output_type": "stream",
          "text": [
            "Saving hojas_2015_MasaSup.txt to hojas_2015_MasaSup.txt\n",
            "User uploaded file \"hojas_2015_MasaSup.txt\" with length 688 bytes\n"
          ],
          "name": "stdout"
        }
      ]
    },
    {
      "cell_type": "code",
      "metadata": {
        "id": "eGm-U-cTKHDv",
        "colab_type": "code",
        "colab": {
          "base_uri": "https://localhost:8080/",
          "height": 55
        },
        "outputId": "5ba18408-005d-4797-a244-2c219e56592c"
      },
      "source": [
        "# Tomo los nombres de los archivos\n",
        "filenames = list(uploaded.keys())"
      ],
      "execution_count": null,
      "outputs": [
        {
          "output_type": "execute_result",
          "data": {
            "text/plain": [
              "{'hojas_2015_MasaSup.txt': b'0.38,0.01,20.5,5\\n0.6,0.01,19.5,4\\n1.31,0.01,51,8.75\\n0.62,0.01,29,6\\n1.32,0.01,48.25,7.75\\n0.72,0.01,37.125,9.375\\n0.76,0.01,25,6\\n0.25,0.01,9.625,3.375\\n0.39,0.01,16.875,4.375\\n0.26,0.01,17.875,5.125\\n0.12,0.01,10.375,3.625\\n1.7,0.01,67,7\\n2.26,0.01,72,6\\n1.68,0.01,64,7\\n0.42,0.01,19,4\\n0.75,0.01,37,6\\n1.72,0.01,63,6\\n1.58,0.01,24,5\\n2.15,0.01,71,7\\n0.96,0.01,31,4\\n0.24,0.01,10,2\\n0.09,0.01,4,2\\n0.06,0.01,4,1\\n0.04,0.01,2,1\\n0.08,0.01,4,2\\n0.1,0.01,6,2\\n2.11,0.01,96,10\\n2.34,0.01,112,10\\n0.92,0.01,86,10\\n0.49,0.01,28,7\\n2.33,0.01,86,10\\n2.4,0.01,96,10\\n2.03,0.01,69,10\\n3.71,0.01,137,20\\n1.89,0.01,67,10\\n0.69,0.01,34,5\\n3.89,0.01,144,40\\n2.2,0.01,85,20\\n2.82,0.01,81,20\\n1.09,0.01,57,9\\n1.88,0.01,94,30\\n1.91,0.01,74,30\\n'}"
            ]
          },
          "metadata": {
            "tags": []
          },
          "execution_count": 6
        }
      ]
    },
    {
      "cell_type": "code",
      "metadata": {
        "id": "DppzJQEbNcPG",
        "colab_type": "code",
        "colab": {
          "base_uri": "https://localhost:8080/",
          "height": 198
        },
        "outputId": "169e7e45-ea3d-441e-92f7-008067a77f52"
      },
      "source": [
        "# Cargo el primero\n",
        "df = pd.read_csv(filenames[0], header=None)\n",
        "df.columns = [\"Masa (gr)\",\"Error Masa (gr)\",\"Area (mm²)\",\"Error Area (mm²)\"]\n",
        "df.head()"
      ],
      "execution_count": null,
      "outputs": [
        {
          "output_type": "execute_result",
          "data": {
            "text/html": [
              "<div>\n",
              "<style scoped>\n",
              "    .dataframe tbody tr th:only-of-type {\n",
              "        vertical-align: middle;\n",
              "    }\n",
              "\n",
              "    .dataframe tbody tr th {\n",
              "        vertical-align: top;\n",
              "    }\n",
              "\n",
              "    .dataframe thead th {\n",
              "        text-align: right;\n",
              "    }\n",
              "</style>\n",
              "<table border=\"1\" class=\"dataframe\">\n",
              "  <thead>\n",
              "    <tr style=\"text-align: right;\">\n",
              "      <th></th>\n",
              "      <th>Masa (gr)</th>\n",
              "      <th>Error Masa (gr)</th>\n",
              "      <th>Area (mm²)</th>\n",
              "      <th>Error Area (mm²)</th>\n",
              "    </tr>\n",
              "  </thead>\n",
              "  <tbody>\n",
              "    <tr>\n",
              "      <th>0</th>\n",
              "      <td>0.38</td>\n",
              "      <td>0.01</td>\n",
              "      <td>20.50</td>\n",
              "      <td>5.00</td>\n",
              "    </tr>\n",
              "    <tr>\n",
              "      <th>1</th>\n",
              "      <td>0.60</td>\n",
              "      <td>0.01</td>\n",
              "      <td>19.50</td>\n",
              "      <td>4.00</td>\n",
              "    </tr>\n",
              "    <tr>\n",
              "      <th>2</th>\n",
              "      <td>1.31</td>\n",
              "      <td>0.01</td>\n",
              "      <td>51.00</td>\n",
              "      <td>8.75</td>\n",
              "    </tr>\n",
              "    <tr>\n",
              "      <th>3</th>\n",
              "      <td>0.62</td>\n",
              "      <td>0.01</td>\n",
              "      <td>29.00</td>\n",
              "      <td>6.00</td>\n",
              "    </tr>\n",
              "    <tr>\n",
              "      <th>4</th>\n",
              "      <td>1.32</td>\n",
              "      <td>0.01</td>\n",
              "      <td>48.25</td>\n",
              "      <td>7.75</td>\n",
              "    </tr>\n",
              "  </tbody>\n",
              "</table>\n",
              "</div>"
            ],
            "text/plain": [
              "   Masa (gr)  Error Masa (gr)  Area (mm²)  Error Area (mm²)\n",
              "0       0.38             0.01       20.50              5.00\n",
              "1       0.60             0.01       19.50              4.00\n",
              "2       1.31             0.01       51.00              8.75\n",
              "3       0.62             0.01       29.00              6.00\n",
              "4       1.32             0.01       48.25              7.75"
            ]
          },
          "metadata": {
            "tags": []
          },
          "execution_count": 7
        }
      ]
    },
    {
      "cell_type": "code",
      "metadata": {
        "id": "GT5NxpqEOIYs",
        "colab_type": "code",
        "colab": {
          "base_uri": "https://localhost:8080/",
          "height": 35
        },
        "outputId": "1aa83214-a929-4813-8559-e4eef15dfac1"
      },
      "source": [
        "df.shape"
      ],
      "execution_count": null,
      "outputs": [
        {
          "output_type": "execute_result",
          "data": {
            "text/plain": [
              "(42, 4)"
            ]
          },
          "metadata": {
            "tags": []
          },
          "execution_count": 8
        }
      ]
    },
    {
      "cell_type": "code",
      "metadata": {
        "id": "pgceBT-wp7Yq",
        "colab_type": "code",
        "colab": {}
      },
      "source": [
        "from google.colab import drive\n",
        "drive.mount('/content/drive')"
      ],
      "execution_count": null,
      "outputs": []
    },
    {
      "cell_type": "code",
      "metadata": {
        "id": "gINEXQReR11I",
        "colab_type": "code",
        "colab": {
          "base_uri": "https://localhost:8080/",
          "height": 388
        },
        "outputId": "0b9b447a-14bc-4ba6-dd4a-fc25cd5adba3"
      },
      "source": [
        "masa = df[\"Masa (gr)\"].to_numpy()\n",
        "emasa = df[\"Error Masa (gr)\"].to_numpy()\n",
        "area = df[\"Area (mm²)\"].to_numpy()\n",
        "earea = df[\"Error Area (mm²)\"].to_numpy()\n",
        "\n",
        "fig, (ax1, ax2) = plt.subplots(nrows=1,ncols=2, figsize=(12,6))\n",
        "\n",
        "ax1.hist(masa,bins=10,edgecolor='black',color='mediumpurple')\n",
        "ax1.set(title='')\n",
        "ax1.set(xlabel='Masa (gr)', ylabel='Cuentas')\n",
        "\n",
        "ax2.hist(area,bins=10,edgecolor='black',color='mediumpurple')\n",
        "ax1.set(title='')\n",
        "ax2.set(xlabel='Area (mm²)', ylabel='Cuentas');"
      ],
      "execution_count": null,
      "outputs": [
        {
          "output_type": "display_data",
          "data": {
            "image/png": "[encoded data removed]",
            "text/plain": [
              "<Figure size 864x432 with 2 Axes>"
            ]
          },
          "metadata": {
            "tags": [],
            "needs_background": "light"
          }
        }
      ]
    },
    {
      "cell_type": "code",
      "metadata": {
        "id": "hFH5ojwpStIG",
        "colab_type": "code",
        "colab": {
          "base_uri": "https://localhost:8080/",
          "height": 295
        },
        "outputId": "6dfec8f3-0eb3-40cb-ebae-0df098e8472f"
      },
      "source": [
        "plt.plot(masa,area,'.')\n",
        "plt.title('lineal')\n",
        "plt.ylabel('Area (mm²)')\n",
        "plt.xlabel('Masa (gr)');"
      ],
      "execution_count": null,
      "outputs": [
        {
          "output_type": "display_data",
          "data": {
            "image/png": "[encoded data removed]",
            "text/plain": [
              "<Figure size 432x288 with 1 Axes>"
            ]
          },
          "metadata": {
            "tags": [],
            "needs_background": "light"
          }
        }
      ]
    },
    {
      "cell_type": "code",
      "metadata": {
        "id": "0WomIeTITW33",
        "colab_type": "code",
        "colab": {
          "base_uri": "https://localhost:8080/",
          "height": 279
        },
        "outputId": "0a361ec6-3d45-43cc-ab9b-480a2ec04741"
      },
      "source": [
        "# grafica las barras de error:\n",
        "plt.errorbar(masa,area,xerr=emasa,yerr=earea,color='b',fmt='o')#,10000,fmt='-o',color='g')\n",
        "# grafica los puntos:\n",
        "plt.plot(masa,area,'ob')#,10000,fmt='-o',color='g')\n",
        "\n",
        "# escribe los ejes y el título:\n",
        "plt.xlabel('masa [gr]')\n",
        "plt.ylabel('area [mm^2]')\n",
        "plt.grid('on')#para que muestre la grilla\n",
        "plt.show()"
      ],
      "execution_count": null,
      "outputs": [
        {
          "output_type": "display_data",
          "data": {
            "image/png": "[encoded data removed]",
            "text/plain": [
              "<Figure size 432x288 with 1 Axes>"
            ]
          },
          "metadata": {
            "tags": [],
            "needs_background": "light"
          }
        }
      ]
    },
    {
      "cell_type": "code",
      "metadata": {
        "id": "y1QuqfzhsXxb",
        "colab_type": "code",
        "colab": {}
      },
      "source": [
        "# Si transformo las variables, tengo que transformar los errores\n",
        "# [[ Si llegan a este punto consulten porque no vimos propagación de errores]]\n",
        "lmasa = np.log(masa) # logaritmo natural, si quieren logaritmo en base 10 es np.log10\n",
        "larea = np.log(area)\n",
        "lemasa = emasa/masa # propagar error, ojo cuando propagan log10!!! \n",
        "learea = earea/area # propagar error, ojo cuando propagan log10!!! "
      ],
      "execution_count": null,
      "outputs": []
    },
    {
      "cell_type": "code",
      "metadata": {
        "id": "PPGfuiTbUFga",
        "colab_type": "code",
        "colab": {
          "base_uri": "https://localhost:8080/",
          "height": 279
        },
        "outputId": "27f159d5-5925-4795-9981-bf18226c0e3b"
      },
      "source": [
        "# grafica las barras de error:\n",
        "plt.errorbar(lmasa,larea,xerr=lemasa,yerr=learea,color='b',fmt='o')#,10000,fmt='-o',color='g')\n",
        "# grafica los puntos:\n",
        "plt.plot(lmasa,larea,'ob')#,10000,fmt='-o',color='g')\n",
        "\n",
        "# escribe los ejes y el título:\n",
        "plt.xlabel('log masa [gr]')\n",
        "plt.ylabel('log area [mm^2]')\n",
        "plt.grid('on')#para que muestre la grilla\n",
        "plt.show()"
      ],
      "execution_count": null,
      "outputs": [
        {
          "output_type": "display_data",
          "data": {
            "image/png": "[encoded data removed]",
            "text/plain": [
              "<Figure size 432x288 with 1 Axes>"
            ]
          },
          "metadata": {
            "tags": [],
            "needs_background": "light"
          }
        }
      ]
    },
    {
      "cell_type": "code",
      "metadata": {
        "id": "yMt_Whffs_72",
        "colab_type": "code",
        "colab": {}
      },
      "source": [
        "# Esto es necesario para realizar los ajustes lineales\n",
        "from scipy.optimize import curve_fit\n",
        "#https://docs.scipy.org/doc/scipy/reference/generated/scipy.optimize.curve_fit.html\n",
        "\n",
        "# Esta función es necesaria para calcular el R^2\n",
        "def rquared(y,y_fit):\n",
        "    ss_res = np.sum((y - y_fit) ** 2) # Suma de los residuos al cuadrado\n",
        "    ss_tot = np.sum((y - np.mean(y)) ** 2) # Suma Total de los cuadrados\n",
        "    return 1 - (ss_res / ss_tot)     # R^2\n",
        "\n",
        "def ajuste_lineal(x,y):\n",
        "  f = lambda x, a, b: a * x + b # la función modelo, con la que ajustamos\n",
        "  popt, pcov = curve_fit(f, x, y) # ajusto sin incertezas en y\n",
        "  sigmas = np.sqrt([pcov[0,0],pcov[1,1]]) # las incertezas de los parametros son la raiz de la diagonal de la matriz de covarianza\n",
        "  a=popt[0]\n",
        "  b=popt[1]\n",
        "  ea=sigmas[0]\n",
        "  eb=sigmas[1]\n",
        "  R = rquared(y,a*x+b)\n",
        "  print('R^2 = %0.2f' % R)\n",
        "  print('Pendiente: %f ± %f'% (a,ea))\n",
        "  print('Ordenada al origen: %f ± %f' % (b,eb))\n",
        "  return a,b,ea,eb,R"
      ],
      "execution_count": null,
      "outputs": []
    },
    {
      "cell_type": "code",
      "metadata": {
        "id": "gke_2PjXtTQq",
        "colab_type": "code",
        "colab": {
          "base_uri": "https://localhost:8080/",
          "height": 347
        },
        "outputId": "73185dea-b02b-4913-da60-795c5296117d"
      },
      "source": [
        "a,b,ea,eb,R = ajuste_lineal(lmasa,larea)\n",
        "\n",
        "# grafica las barras de error:\n",
        "plt.errorbar(lmasa,larea,xerr=lemasa,yerr=learea,color='b',fmt='o')#,10000,fmt='-o',color='g')\n",
        "# grafica los puntos:\n",
        "plt.plot(lmasa,larea,'ob')#,10000,fmt='-o',color='g')\n",
        "\n",
        "plt.plot(lmasa,a*lmasa+b,'r')\n",
        "\n",
        "# escribe los ejes y el título:\n",
        "plt.xlabel('log masa [gr]')\n",
        "plt.ylabel('log area [mm^2]')\n",
        "plt.title('R^2 = %0.2f' % R)\n",
        "plt.grid('on')#para que muestre la grilla\n",
        "plt.legend((\"Datos\",\"Ajuste\"), loc=4)\n",
        "plt.show()"
      ],
      "execution_count": null,
      "outputs": [
        {
          "output_type": "stream",
          "text": [
            "R^2 = 0.94\n",
            "Pendiente: 0.869053 ± 0.034625\n",
            "Ordenada al origen: 3.725103 ± 0.042143\n"
          ],
          "name": "stdout"
        },
        {
          "output_type": "display_data",
          "data": {
            "image/png": "[encoded data removed]",
            "text/plain": [
              "<Figure size 432x288 with 1 Axes>"
            ]
          },
          "metadata": {
            "tags": [],
            "needs_background": "light"
          }
        }
      ]
    },
    {
      "cell_type": "code",
      "metadata": {
        "id": "I_qT2YR_tthy",
        "colab_type": "code",
        "colab": {}
      },
      "source": [
        "# Y si queremos usar los errores?\n",
        "def ajuste_lineal_CMPesados(x,y,yerr):\n",
        "  f = lambda x, a, b: a * x + b # la función modelo, con la que ajustamos\n",
        "  popt, pcov = curve_fit(f, x, y, sigma = yerr,absolute_sigma=True)#ajusto con incertezas en y\n",
        "                #sigma son las incertezas en y. absolute_sigma para que las considere absolutas.\n",
        "  sigmas = np.sqrt([pcov[0,0],pcov[1,1]]) # las incertezas de los parametros son la raiz de la diagonal de la matriz de covarianza\n",
        "  a=popt[0]\n",
        "  b=popt[1]\n",
        "  ea=sigmas[0]\n",
        "  eb=sigmas[1]\n",
        "  R = rquared(y,a*x+b)\n",
        "  print('R^2 = %0.2f' % R)\n",
        "  print('Pendiente: %f ± %f'% (a,ea))\n",
        "  print('Ordenada al origen: %f ± %f' % (b,eb))\n",
        "  return a,b,ea,eb,R"
      ],
      "execution_count": null,
      "outputs": []
    },
    {
      "cell_type": "code",
      "metadata": {
        "id": "B2jEZBz-t_4b",
        "colab_type": "code",
        "colab": {
          "base_uri": "https://localhost:8080/",
          "height": 347
        },
        "outputId": "0db1277c-64f4-4008-eddb-7213e155295f"
      },
      "source": [
        "a,b,ea,eb,R = ajuste_lineal_CMPesados(lmasa,larea,learea)\n",
        "\n",
        "# grafica las barras de error:\n",
        "plt.errorbar(lmasa,larea,xerr=lemasa,yerr=learea,color='b',fmt='o')#,10000,fmt='-o',color='g')\n",
        "# grafica los puntos:\n",
        "plt.plot(lmasa,larea,'ob')#,10000,fmt='-o',color='g')\n",
        "\n",
        "plt.plot(lmasa,a*lmasa+b,'r')\n",
        "\n",
        "# escribe los ejes y el título:\n",
        "plt.xlabel('log masa [gr]')\n",
        "plt.ylabel('log area [mm^2]')\n",
        "plt.title('R^2 = %0.2f' % R)\n",
        "plt.grid('on')#para que muestre la grilla\n",
        "plt.legend((\"Datos\",\"Ajuste\"), loc=4)\n",
        "plt.show()"
      ],
      "execution_count": null,
      "outputs": [
        {
          "output_type": "stream",
          "text": [
            "R^2 = 0.94\n",
            "Pendiente: 0.843925 ± 0.032077\n",
            "Ordenada al origen: 3.759745 ± 0.026429\n"
          ],
          "name": "stdout"
        },
        {
          "output_type": "display_data",
          "data": {
            "image/png": "[encoded data removed]",
            "text/plain": [
              "<Figure size 432x288 with 1 Axes>"
            ]
          },
          "metadata": {
            "tags": [],
            "needs_background": "light"
          }
        }
      ]
    },
    {
      "cell_type": "code",
      "metadata": {
        "id": "a7ArVjoxuO9n",
        "colab_type": "code",
        "colab": {}
      },
      "source": [
        ""
      ],
      "execution_count": null,
      "outputs": []
    }
  ]
}